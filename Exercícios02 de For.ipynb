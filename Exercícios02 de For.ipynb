{
 "cells": [
  {
   "cell_type": "markdown",
   "metadata": {},
   "source": [
    "# Exercícios\n",
    "\n",
    "## 1. Calculando % de uma lista\n",
    "\n",
    "Faremos algo parecido com \"filtrar\" uma lista. Mais pra frente no curso aprenderemos outras formas de fazer isso, mas com o nosso conhecimentoa atual já conseguimos resolver o desafio.\n",
    "\n",
    "Digamos que a gente tenha uma lista de vendedores e ao invés de saber todos os vendedores que bateram a meta, eu quero conseguir calcular o % de vendedores que bateram a meta. Ou seja, se temos 10 vendedores e 3 bateram a meta, temos 30% dos vendedores que bateram a meta."
   ]
  },
  {
   "cell_type": "code",
   "execution_count": 2,
   "metadata": {},
   "outputs": [
    {
     "name": "stdout",
     "output_type": "stream",
     "text": [
      "Os funcionarios que bateram a meta representam 50.0%\n",
      "['Julia', 27000]\n",
      "O maior vendedor foi Julia com 27000 vendas\n"
     ]
    }
   ],
   "source": [
    "meta = 10000\n",
    "vendas = [\n",
    "    ['João', 15000],\n",
    "    ['Julia', 27000],\n",
    "    ['Marcus', 9900],\n",
    "    ['Maria', 3750],\n",
    "    ['Ana', 10300],\n",
    "    ['Alon', 7870],\n",
    "]\n",
    "#1°forma\n",
    "bateram_meta=[] #lisat vazia p/ armazenar \n",
    "for i,pessoa in enumerate(vendas):\n",
    "    if pessoa[1]>meta: #varreando a lista e pegando os nomes das pessoasque baterm a meta\n",
    "        bateram_meta.append(pessoa) #adicionaod a lista\n",
    "        \n",
    "        \n",
    "porcentagem=len(bateram_meta)/len(vendas) #porcentagem de pessoas que bateram a meta \n",
    "print('Os funcionarios que bateram a meta representam {:.1%}'.format(porcentagem))\n",
    "maior_vendedor=max(bateram_meta) #acahando o nome da maior vendedora\n",
    "print(maior_vendedor)\n",
    "print(f'O maior vendedor foi {maior_vendedor[0]} com {maior_vendedor[1]} vendas') #mostrano nome e qunato vendeu \n",
    "        "
   ]
  },
  {
   "cell_type": "code",
   "execution_count": 7,
   "metadata": {},
   "outputs": [
    {
     "name": "stdout",
     "output_type": "stream",
     "text": [
      "bateram a meta:0.5%\n"
     ]
    }
   ],
   "source": [
    "#2°forma \n",
    "for j,people in enumerate(vendas):\n",
    "    if people[1]>10000:\n",
    "        picas=len(people[0])/len(vendas)\n",
    "print(f'bateram a meta:{picas}%')\n"
   ]
  },
  {
   "cell_type": "markdown",
   "metadata": {},
   "source": [
    "- Vamos resolver de 2 formas:\n",
    "    1. Criando uma lista auxiliar apenas com os vendedores que bateram a meta\n",
    "    2. Fazendo o cálculo diretamente na lista que já temos"
   ]
  },
  {
   "cell_type": "markdown",
   "metadata": {},
   "source": [
    "## Para treinar uma estrutura parecida, crie um código para responder: quem foi o vendedor que mais vendeu?"
   ]
  },
  {
   "cell_type": "code",
   "execution_count": null,
   "metadata": {},
   "outputs": [],
   "source": []
  }
 ],
 "metadata": {
  "kernelspec": {
   "display_name": "Python 3 (ipykernel)",
   "language": "python",
   "name": "python3"
  },
  "language_info": {
   "codemirror_mode": {
    "name": "ipython",
    "version": 3
   },
   "file_extension": ".py",
   "mimetype": "text/x-python",
   "name": "python",
   "nbconvert_exporter": "python",
   "pygments_lexer": "ipython3",
   "version": "3.9.13"
  }
 },
 "nbformat": 4,
 "nbformat_minor": 4
}
