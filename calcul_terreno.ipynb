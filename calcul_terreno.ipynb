{
 "cells": [
  {
   "cell_type": "code",
   "execution_count": 19,
   "id": "a9ae60fd",
   "metadata": {},
   "outputs": [
    {
     "name": "stdout",
     "output_type": "stream",
     "text": [
      "notebook hp vendeu 1000 unidades \n",
      "notebook dell vendeu 17000 unidades \n",
      "notebook asus vendeu 2450 unidades \n"
     ]
    }
   ],
   "source": [
    "#mais_vendidos = {'tecnologia': 'iphone', 'refrigeracao': 'ar consul 12000 btu', 'livros': 'o alquimista', 'eletrodoméstico': 'geladeira', 'lazer': 'prancha surf'}\n",
    "\n",
    "vendas_tecnologia = {'iphone': 15000, 'samsung galaxy': 12000, 'tv samsung': 10000, 'ps5': 14300, 'tablet': 1720, 'ipad': 1000, 'tv philco': 2500, 'notebook hp': 1000, 'notebook dell': 17000, 'notebook asus': 2450}\n",
    "\n",
    "for banana in (vendas_tecnologia):\n",
    "    if 'notebook' in banana:\n",
    "        print('{} vendeu {} unidades '.format(banana,vendas_tecnologia[banana]))"
   ]
  },
  {
   "cell_type": "code",
   "execution_count": null,
   "id": "5c8ad6d1",
   "metadata": {},
   "outputs": [],
   "source": [
    "val_terreno=int(input('Digite o valor do terreno '))\n",
    "parcelas=(int(input('Pagar em quantas parcelas ')))\n",
    "juros=0\n",
    "\n",
    "if parcelas==1:\n",
    "    print(f'O valor do terreno é {val_terreno}')\n",
    "elif parcelas>1 and parcelas<13:\n",
    "    juros=1.1\n",
    "    print(f'O valor do terreno é {val_terreno*juros} e vc pagara {parcelas} parcelas de {(val_terreno*juros)/parcelas}')\n",
    "elif parcelas>=13 and parcelas<25:\n",
    "    juros=1.25\n",
    "    print(f'O valor do terreno é {val_terreno*juros} e vc pagara {parcelas} parcelas de {(val_terreno*juros)/parcelas}')\n",
    "elif parcelas>=25 and parcelas<37:\n",
    "    juros=1.40\n",
    "    print(f'O valor do terreno é {val_terreno*juros} e vc pagara {parcelas} parcelas de {(val_terreno*juros)/parcelas}')\n"
   ]
  }
 ],
 "metadata": {
  "kernelspec": {
   "display_name": "Python 3 (ipykernel)",
   "language": "python",
   "name": "python3"
  },
  "language_info": {
   "codemirror_mode": {
    "name": "ipython",
    "version": 3
   },
   "file_extension": ".py",
   "mimetype": "text/x-python",
   "name": "python",
   "nbconvert_exporter": "python",
   "pygments_lexer": "ipython3",
   "version": "3.9.13"
  }
 },
 "nbformat": 4,
 "nbformat_minor": 5
}
