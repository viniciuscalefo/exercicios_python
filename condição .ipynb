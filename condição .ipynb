{
 "cells": [
  {
   "cell_type": "code",
   "execution_count": 18,
   "id": "82275305",
   "metadata": {},
   "outputs": [
    {
     "name": "stdout",
     "output_type": "stream",
     "text": [
      "Vou pensar em um número entre 1 e 5, tente advinhar em qual número pensei 2\n",
      "processando ... \n",
      "ERROU, eu pensei em 4 e vc pensou em 2 COMPUTADOR VENCEU\n"
     ]
    }
   ],
   "source": [
    "#brincar de advinha o numero que o computaodr pensou, se acertar mostra uma mensageme e se errar mostra outra \n",
    "import random\n",
    "from time import sleep # importando a função sleep da biblioteca time  \n",
    "nu= int(input('Vou pensar em um número entre 1 e 5, tente advinhar em qual número pensei ')) # COMPUTAODR \"PENSANDO\"\n",
    "nc= random.randint(1,5)\n",
    "print('processando ... ')\n",
    "sleep(5)\n",
    "if nu==nc:\n",
    "    print('Parabéns você acertou')\n",
    "else:\n",
    "    print('ERROU, eu pensei em {} e vc pensou em {} COMPUTADOR VENCEU'.format(nc,nu))\n"
   ]
  },
  {
   "cell_type": "code",
   "execution_count": 26,
   "id": "5ad3f22d",
   "metadata": {},
   "outputs": [
    {
     "name": "stdout",
     "output_type": "stream",
     "text": [
      "Em que velocidade o carro passou ? 100\n",
      "Voce eltrapassou o limite e terá que pagr uma multa de 140.00 reais\n"
     ]
    }
   ],
   "source": [
    "#um radar que mostra se o carro ultrapassou o limite\n",
    "#se ultrapassar mostart um msg fslando que foi multado e pagara 7 reais a mais para cada km a excedido\n",
    "vel=float(input('Em que velocidade o carro passou ? '))\n",
    "multa= (vel-80)*7\n",
    "if vel<= 80:\n",
    "    print('Muito bem, dirija com segurança ')\n",
    "else:\n",
    "    print('Voce eltrapassou o limite e terá que pagr uma multa de {:.2f} reais'.format(multa))\n",
    "        "
   ]
  },
  {
   "cell_type": "code",
   "execution_count": 28,
   "id": "402050b2",
   "metadata": {},
   "outputs": [
    {
     "name": "stdout",
     "output_type": "stream",
     "text": [
      "DIgite um numero 10\n",
      "O número 10 é par\n"
     ]
    }
   ],
   "source": [
    "#ler se um numero é par ou impar \n",
    "n= int(input('Digite um numero '))\n",
    "if n%2==0:\n",
    "    print('O número {} é par'.format(n))\n",
    "else:\n",
    "    print('O número {} é impar '.format(n))\n"
   ]
  },
  {
   "cell_type": "code",
   "execution_count": 30,
   "id": "43d2bb3c",
   "metadata": {},
   "outputs": [
    {
     "name": "stdout",
     "output_type": "stream",
     "text": [
      "Digite um numero 10\n",
      "par\n"
     ]
    }
   ],
   "source": [
    "n= int(input('Digite um numero '))\n",
    "print('par' if n%2==0  else 'impar' ) #condição simplificada de ler se um numero é par ou impar \n",
    "# 'print da condição verdadeira' if condição vdd else 'print da condição falsa'"
   ]
  },
  {
   "cell_type": "code",
   "execution_count": null,
   "id": "85bcac37",
   "metadata": {},
   "outputs": [],
   "source": [
    "#calcular o preco da viagem se elka for ate 200 km é conrado 0,75 por km\n",
    "# S FOR MAIS QUE 200 É COBRADO 0,50POR KM \n",
    "dist=float(input(' Qual a distancia de sua viagem ? '))\n",
    "if dist<=200:\n",
    "    print(' Sua viagem de {} custara R$ {:.2f} ' .format (dist, (dist*0.75)))\n",
    "    \n",
    "else:\n",
    "    print(' Sua viagem de {} km ficara R${:.2f} '. format (dist, (dist*0.5)))\n",
    "    "
   ]
  },
  {
   "cell_type": "code",
   "execution_count": 35,
   "id": "ccc18738",
   "metadata": {},
   "outputs": [
    {
     "name": "stdout",
     "output_type": "stream",
     "text": [
      "Digite um número 6\n",
      "Digite outro número 5\n",
      "Digite o ultimo numero 8\n",
      "o maior numero digitrado foi 8\n",
      "e o menor foi 5\n"
     ]
    }
   ],
   "source": [
    "a1=int(input('Digite um número '))\n",
    "a2= int(input('Digite outro número '))\n",
    "a3=int(input('Digite o ultimo numero '))\n",
    "\n",
    "# TESTANDO QUEM É O MENOR \n",
    "if a1<a2 and a1<a3:\n",
    "    menor=a1\n",
    "if a2<a1 and a2<a3:\n",
    "    menor=a2\n",
    "if a3<a1 and a3<a2:\n",
    "    menor= a3\n",
    "\n",
    "if a1>a2 and a1>a3:\n",
    "    maior=a1\n",
    "if a2>a1 and a2>a3:\n",
    "    maior=a2\n",
    "if a3>a1 and a3>a2:\n",
    "    maior=a3\n",
    "    \n",
    "\n",
    "print('o maior numero digitrado foi {}'.format(maior))\n",
    "print('e o menor foi {}'.format(menor))"
   ]
  },
  {
   "cell_type": "code",
   "execution_count": 1,
   "id": "9936e6e4",
   "metadata": {},
   "outputs": [
    {
     "name": "stdout",
     "output_type": "stream",
     "text": [
      "Digite um número 10\n",
      "Digite outro número 3\n",
      "Digite o ultimo numero 5\n",
      "o maior numero é 10\n",
      "o mneo numero é 3 \n"
     ]
    }
   ],
   "source": [
    "#alternativa para o exercicio a cima, mas usando listas \n",
    "\n",
    "a=int(input('Digite um número '))\n",
    "b= int(input('Digite outro número '))\n",
    "c=int(input('Digite o ultimo numero '))\n",
    "\n",
    "lista=[a,b,c]\n",
    "print('o maior numero é {}'.format (max(lista)))\n",
    "print('o menor numero é {} '.format (min(lista)))"
   ]
  },
  {
   "cell_type": "code",
   "execution_count": 39,
   "id": "451d61df",
   "metadata": {},
   "outputs": [
    {
     "name": "stdout",
     "output_type": "stream",
     "text": [
      "Qual é seu salário 2000\n",
      "Seu novo salário é2200.0 \n"
     ]
    }
   ],
   "source": [
    "sal=float(input('Qual é seu salário '))\n",
    "if sal>1250.0:\n",
    "    aumento=10/100*sal\n",
    "    print('Seu novo salário é {} '.format(sal+aumento))\n",
    "else:\n",
    "    aumento=15/100*sal\n",
    "    print('Seu novo salario é {}'.format(sal+aumento))"
   ]
  },
  {
   "cell_type": "code",
   "execution_count": null,
   "id": "5991ef35",
   "metadata": {},
   "outputs": [],
   "source": [
    "a=float(input('Digite o valor do lado '))\n",
    "b=float(input('Digite o valor do lado '))\n",
    "c=float(input('Digite o valor do lado '))\n",
    "\n",
    "if abs(b-c)<a<b+c and abs(a-c)<b<a+c and abs(a-b)<c<a+b:\n",
    "    print('O triangulo de lados {}, {}, {} pode ser formado '.format(a,b,c))\n",
    "else:\n",
    "    print('O triangulo com esses lados não pode ser formado ')"
   ]
  },
  {
   "cell_type": "markdown",
   "id": "a5b69859",
   "metadata": {},
   "source": [
    "#condições aninhadas"
   ]
  },
  {
   "cell_type": "code",
   "execution_count": 3,
   "id": "d2bc40d9",
   "metadata": {},
   "outputs": [
    {
     "name": "stdout",
     "output_type": "stream",
     "text": [
      "qual seu nome gerald\n",
      "que nome normal gerald\n"
     ]
    }
   ],
   "source": [
    "nome=str(input('qual seu nome '))\n",
    "if nome=='guto':\n",
    "    print('que nome bom ')\n",
    "elif nome=='vini' or nome== 'assarice 'or nome==' hana':\n",
    "    print(f'seu nome ébem popular')\n",
    "else:\n",
    "    print(f'que nome normal {nome}')\n",
    "    "
   ]
  },
  {
   "cell_type": "code",
   "execution_count": 11,
   "id": "1783bba3",
   "metadata": {},
   "outputs": [
    {
     "name": "stdout",
     "output_type": "stream",
     "text": [
      "Qual o valor da casa 120000\n",
      "Qual é seu salario 5000\n",
      "Em quantos meses vc quer pagar ela 120\n",
      "Parabens seu credito foi aprovado \n"
     ]
    }
   ],
   "source": [
    "#APROVANDO EMPRESTIUMO PARA COMPRAR UMA CASA EM X ANOS \n",
    "\n",
    "casa=float(input('Qual o valor da casa '))\n",
    "sal=float(input('Qual é seu salario '))\n",
    "meses=int(input('Em quantos meses vc quer pagar ela '))\n",
    "\n",
    "val_empre=casa/meses\n",
    "empre_max= (30/100)*sal\n",
    "\n",
    "if val_empre>empre_max:\n",
    "    print(f'O valor da parcela que é de {val_empre} supera 30% de seu salário e por isso seu crédito não foi aprovdo')\n",
    "else:\n",
    "    print('Parabens seu credito foi aprovado ')"
   ]
  },
  {
   "cell_type": "code",
   "execution_count": 34,
   "id": "d2d12982",
   "metadata": {},
   "outputs": [
    {
     "name": "stdout",
     "output_type": "stream",
     "text": [
      "Digite um número 93\n",
      "Em qual base vc quer converter: \n",
      "[1]-Binário\n",
      "[2]-Octal \n",
      "[3]-Hexadecimal\n",
      "Digite sua opção 1\n",
      "o numero 93 em binário é 1011101\n"
     ]
    }
   ],
   "source": [
    "#ler um numero e converter ele para alguma dessas bases \n",
    "n=int(input('Digite um número '))\n",
    "print('''Em qual base vc quer converter: \n",
    "[1]-Binário\n",
    "[2]-Octal \n",
    "[3]-Hexadecimal''')\n",
    "\n",
    "opcao=int(input('Digite sua opção '))\n",
    "                \n",
    "if opcao==1:\n",
    "    print('o numero {} em binário é {}'.format(n,bin(n)[2:]))\n",
    "elif opcao==2:\n",
    "    print(f'o numero {n} em octal é {oct(n)[2:]}')\n",
    "elif opcao==3:\n",
    "    print(f'o numero {n} em hexadecimal é {hex(n)[2:]}')\n",
    "else:\n",
    "    print('Opção inválida')\n",
    "\n",
    "                "
   ]
  },
  {
   "cell_type": "code",
   "execution_count": 38,
   "id": "4e2dcba1",
   "metadata": {},
   "outputs": [
    {
     "name": "stdout",
     "output_type": "stream",
     "text": [
      "Digite um número 10\n",
      "Digite outro número 10\n",
      "Os dois são iguais \n"
     ]
    }
   ],
   "source": [
    "#compara dois valors e imprimir se o 1° é o maoior,o 2° ou se são iguais \n",
    "\n",
    "n1=float(input('Digite um número '))\n",
    "n2= float(input('Digite outro número '))\n",
    "\n",
    "if n1>n2:\n",
    "    print('O primeiro número é maior ')\n",
    "elif n1<n2:\n",
    "    print('O segundo número é maior ')\n",
    "else:\n",
    "    print('Os dois são iguais ')\n",
    "    "
   ]
  },
  {
   "cell_type": "code",
   "execution_count": 50,
   "id": "be10f9bc",
   "metadata": {},
   "outputs": [
    {
     "name": "stdout",
     "output_type": "stream",
     "text": [
      "Em que ano vc nasceu 1975\n",
      " esse ano vc completa 48 anos  Vc deveria ter se alisatdo a 30 anos atras\n"
     ]
    }
   ],
   "source": [
    "#ALISTAMENTO MILITAR \n",
    "\n",
    "nasci=int(input('Em que ano vc nasceu '))\n",
    "hoje=date.today().year\n",
    "ano=hoje-nasci\n",
    "\n",
    "\n",
    "if ano==18:\n",
    "    print('Tem que ir se alistar esse ano ')\n",
    "elif ano>18:\n",
    "    saldo=ano-18\n",
    "    print(' esse ano vc completa {} anos  Vc deveria ter se alisatdo a {} anos atras'.format(ano, saldo))\n",
    "    \n",
    "elif ano<18:\n",
    "    saldo=ano-18\n",
    "    print('esse ano vc completa {} anos  Vc deve se alisatr em  {} anos '.format(ano, saldo))"
   ]
  },
  {
   "cell_type": "code",
   "execution_count": 56,
   "id": "04a16680",
   "metadata": {},
   "outputs": [
    {
     "name": "stdout",
     "output_type": "stream",
     "text": [
      "Digite a primeira nota 6.5\n",
      "Digite a segunda nota 6.5\n",
      "tirando 6.5 e 6.5 a média do aluno é 6.5\n",
      "O aluno está de recuperação  \n"
     ]
    }
   ],
   "source": [
    "# classico da média \n",
    "\n",
    "n1=float(input('Digite a primeira nota '))\n",
    "n2=float(input('Digite a segunda nota '))\n",
    "\n",
    "media= (n1+n2)/2\n",
    "print(f'tirando {n1} e {n2} a média do aluno é {media}')\n",
    "\n",
    "if media >=7.0:\n",
    "    print('O aluno está aprovado ')\n",
    "elif media>5 and media <=6.9:\n",
    "    print('O aluno está de recuperação  ')\n",
    "elif media<5:\n",
    "    print('O aluno está reprovado ')\n"
   ]
  },
  {
   "cell_type": "code",
   "execution_count": 65,
   "id": "cbad8a3a",
   "metadata": {},
   "outputs": [
    {
     "ename": "SyntaxError",
     "evalue": "invalid syntax (3990448547.py, line 7)",
     "output_type": "error",
     "traceback": [
      "\u001b[1;36m  File \u001b[1;32m\"C:\\Users\\Alexandre\\AppData\\Local\\Temp\\ipykernel_5724\\3990448547.py\"\u001b[1;36m, line \u001b[1;32m7\u001b[0m\n\u001b[1;33m    idade= atual-ano\u001b[0m\n\u001b[1;37m    ^\u001b[0m\n\u001b[1;31mSyntaxError\u001b[0m\u001b[1;31m:\u001b[0m invalid syntax\n"
     ]
    }
   ],
   "source": [
    "#classificando atletas \n",
    "from datatime import data\n",
    "\n",
    "ano= int(input('Em que ano vc nasceu')\n",
    "atual=date.today().year\n",
    "idade= atual-ano \n",
    "print(idade)\n",
    "         "
   ]
  },
  {
   "cell_type": "code",
   "execution_count": 78,
   "id": "fdd39614",
   "metadata": {},
   "outputs": [
    {
     "name": "stdout",
     "output_type": "stream",
     "text": [
      "Ano em que vc nasceu 1978\n",
      "MASTER\n"
     ]
    }
   ],
   "source": [
    "ano=int(input('Ano em que vc nasceu '))\n",
    "atual=date.today().year\n",
    "idade=atual-ano\n",
    "if(idade<=9):\n",
    "    print(f'esse ano vc faz {idade} anos, logo é MIRIM')\n",
    "elif(idade<=15):\n",
    "    print('Infantil')\n",
    "elif(idade<=19):\n",
    "    print('JUNIOR')\n",
    "elif(idade<=25):\n",
    "    print('SENIOR')\n",
    "else:\n",
    "    print('MASTER')"
   ]
  },
  {
   "cell_type": "code",
   "execution_count": 100,
   "id": "15c1f3ee",
   "metadata": {},
   "outputs": [
    {
     "name": "stdout",
     "output_type": "stream",
     "text": [
      "Digite o valor do lado 3\n",
      "Digite o valor do lado 3\n",
      "Digite o valor do lado 2\n",
      "O triangulo de lados 3.0, 3.0, 2.0 pode ser formado e ele é isocelis \n"
     ]
    }
   ],
   "source": [
    "#dizer se um trinagulo pode ou ser formado e se ele é escaleno isocelis ou qeuilatero\n",
    "a=float(input('Digite o valor do lado '))\n",
    "b=float(input('Digite o valor do lado '))\n",
    "c=float(input('Digite o valor do lado '))\n",
    "\n",
    "if abs(b-c)<a<b+c and abs(a-c)<b<a+c and abs(a-b)<c<a+b:\n",
    "    if (a!=b) and (a!=c) and (b!=c):\n",
    "        #jeito alternativo é a != b != c != a:\n",
    "        print('O triangulo de lados {}, {}, {} pode ser formado e ele é escaleno '.format(a,b,c))\n",
    "    elif a==b==c:\n",
    "        print('O triangulo de lados {}, {}, {} pode ser formado e ele é equilatero '.format(a,b,c))\n",
    "    elif a==b or a==c or b==c:\n",
    "        #poderia colocar simplismente um 'else', pois se pode formar um triangylo e n é escaleno nem equilatero, tem que ser isocelis\n",
    "        print('O triangulo de lados {}, {}, {} pode ser formado e ele é isocelis '.format(a,b,c))\n",
    "         \n",
    "else:\n",
    "    print('O triangulo com esses lados não pode ser formado ')"
   ]
  },
  {
   "cell_type": "code",
   "execution_count": 113,
   "id": "34f5be40",
   "metadata": {},
   "outputs": [
    {
     "name": "stdout",
     "output_type": "stream",
     "text": [
      "Qual seu o peso KG: 96\n",
      "Qual sua altura m 1.86\n",
      "Seu IMC é 27.7 e vc está SOBREPESO \n"
     ]
    }
   ],
   "source": [
    "#calcular IMC e classificar \n",
    "peso=float(input('Qual seu o peso KG: '))\n",
    "altura=float(input('Qual sua altura m '))\n",
    "imc= peso/(altura**2)\n",
    "if imc<18.5:\n",
    "    print(f'Seu IMC é {imc:.1f} e vc está ABAIXO DO PESO')\n",
    "elif imc <25:\n",
    "    print(f'Seu IMC é {imc:.1f} e vc está no PESO IDEAL')\n",
    "elif imc <31:\n",
    "    print(f'Seu IMC é {imc:.1f} e vc está SOBREPESO ')\n",
    "elif imc<41:\n",
    "    print(f'Seu IMC é {imc:.1f} e vc está com OBESIDADE')\n",
    "else:\n",
    "    print(f'Seu IMC é {imc:.1f} e vc está no OBESIDADE MORBIDA')"
   ]
  },
  {
   "cell_type": "code",
   "execution_count": null,
   "id": "8f447f7a",
   "metadata": {},
   "outputs": [],
   "source": [
    "#formas de pagamneto\n",
    "\n",
    "print('{:=^40}'.format(' LOJAS CALEFO '))\n",
    "\n",
    "prod=float(input('Qual o valor do produto R$: '))\n",
    "metodo=int(input('''Selecione o metodo de pagamento \n",
    "                 [1]-A vista, dinheiro cheque(10% de desconto)\n",
    "                 [2]- A vista no cartão (5% de desconto) \n",
    "                 [3]- Em até 2x no cartão (preço normal )\n",
    "                 [4]- 3x ou mais no cartão (20% de juros )\n",
    "                 '''))\n",
    "if metodo==1:\n",
    "    preco=prod-(10/100 *prod)\n",
    "    print('O valor a ser pago é {:.2f} reais'.format(preco))\n",
    "elif metodo==2:\n",
    "    preco=prod-(5/100*prod)\n",
    "    print('O valor a ser pago é {:.2f} reais'.format(preco))\n",
    "elif metodo==3:\n",
    "    preco=prod\n",
    "    print('O valor a ser pago é {:.2f} reais'.format(preco))\n",
    "elif metodo==4:\n",
    "    preco=prod+(20/100*prod)\n",
    "    print('O valor a ser pago é {:.2f} reais'.format(preco))\n",
    "else:\n",
    "    print('Opção inválida tente de novo ')"
   ]
  },
  {
   "cell_type": "code",
   "execution_count": 5,
   "id": "22223f5a",
   "metadata": {},
   "outputs": [
    {
     "name": "stdout",
     "output_type": "stream",
     "text": [
      "Computador escolheu tesoura \n",
      " Escolha uma das opções \n",
      "    [0]-Pedra \n",
      "    [1]-Papel \n",
      "    [2]-Tesoura \n",
      "Qaul sua escolha 2\n",
      "JO\n",
      "KEN\n",
      "PO !!!\n",
      "empate\n",
      "========================================\n",
      "jogador jogou tesoura \n",
      "Computador escolheu tesoura \n",
      "=^=^=^=^=^=^=^=^=^=^=^=^=^=^=^=^=^=^=^=^=^=^=^=^=^=^=^=^=^=^=^=^=^=^=^=^=^=^=^=^\n"
     ]
    }
   ],
   "source": [
    "#Pedra papel e tesoura \n",
    "from time import sleep\n",
    "from random import randint\n",
    "itens=('pedra','papel','tesoura')\n",
    "computador=randint(0,2)\n",
    "print('Computador escolheu {} '.format(itens[computador]))\n",
    "print(''' Escolha uma das opções \n",
    "    [0]-Pedra \n",
    "    [1]-Papel \n",
    "    [2]-Tesoura ''')\n",
    "\n",
    "jogador=int(input('Qaul sua escolha '))\n",
    "print('JO')\n",
    "sleep(1)\n",
    "print('KEN')\n",
    "sleep(1)    \n",
    "print('PO !!!')\n",
    "sleep(1) \n",
    "\n",
    "if computador ==0:\n",
    "    if jogador==0:\n",
    "        print('EMPATE')\n",
    "        \n",
    "    elif jogador==1:\n",
    "        print('jogador vence')\n",
    "        \n",
    "    elif jogador==2:\n",
    "        print('computador vence ')\n",
    "        \n",
    "    else:\n",
    "        print('JOGADA INVÁLIDA')\n",
    "elif computador==1:\n",
    "    if jogador==0:\n",
    "        print('computador vence ')\n",
    "        \n",
    "    elif jogador==1:\n",
    "        preint('empate')\n",
    "        \n",
    "    elif jogador==2:\n",
    "        preint('jogador vence ')\n",
    "        \n",
    "    else:\n",
    "        print('JOGADA INVÁLIDA')\n",
    "    \n",
    "    \n",
    "elif computador==2: \n",
    "    if jogador==0:\n",
    "        print('jogador vence ')\n",
    "        \n",
    "    elif jogador==1:\n",
    "        print('compuador vence ')\n",
    "        \n",
    "    elif jogador==2:\n",
    "        print('empate')\n",
    "        \n",
    "    else:\n",
    "        print('JOGADA INVÁLIDA')\n",
    "print('='*40)       \n",
    "print('jogador jogou {} '.format(itens[jogador]))\n",
    "print('Computador escolheu {} '.format(itens[computador]))\n",
    "print('=^'*40) \n"
   ]
  },
  {
   "cell_type": "code",
   "execution_count": null,
   "id": "4b2a777e",
   "metadata": {},
   "outputs": [],
   "source": []
  }
 ],
 "metadata": {
  "kernelspec": {
   "display_name": "Python 3 (ipykernel)",
   "language": "python",
   "name": "python3"
  },
  "language_info": {
   "codemirror_mode": {
    "name": "ipython",
    "version": 3
   },
   "file_extension": ".py",
   "mimetype": "text/x-python",
   "name": "python",
   "nbconvert_exporter": "python",
   "pygments_lexer": "ipython3",
   "version": "3.9.13"
  }
 },
 "nbformat": 4,
 "nbformat_minor": 5
}
