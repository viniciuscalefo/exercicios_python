{
 "cells": [
  {
   "cell_type": "code",
   "execution_count": 4,
   "id": "f4691ec0",
   "metadata": {},
   "outputs": [],
   "source": [
    "def area_terreno ():\n",
    "    altura=float(input('Qual a altura '))\n",
    "    comprimento=float(input('Qual o comprimento '))\n",
    "    area=altura*comprimento\n",
    "    return area"
   ]
  },
  {
   "cell_type": "code",
   "execution_count": 5,
   "id": "ffe813a2",
   "metadata": {},
   "outputs": [
    {
     "name": "stdout",
     "output_type": "stream",
     "text": [
      "Qual a altura 10\n",
      "Qual o comprimento 10\n",
      "a area do terreno é 100.0 \n"
     ]
    }
   ],
   "source": [
    "print('a area do terreno é {} '.format(area_terreno()))"
   ]
  },
  {
   "cell_type": "code",
   "execution_count": 9,
   "id": "b2860737",
   "metadata": {},
   "outputs": [],
   "source": [
    "def escreva(msg):\n",
    "    tam=len(msg)\n",
    "    print('~'*tam)\n",
    "    print(msg)\n",
    "    print('~'*tam)\n",
    "    \n",
    "    \n"
   ]
  },
  {
   "cell_type": "code",
   "execution_count": 11,
   "id": "f46d6fbf",
   "metadata": {},
   "outputs": [
    {
     "name": "stdout",
     "output_type": "stream",
     "text": [
      "~~~~~~~~~\n",
      "boa noite\n",
      "~~~~~~~~~\n",
      "~~~~~~~~~~~~~~~~~~~~~~~~~~~~~~~~~~~~~~~~~~~~~\n",
      "a banan que caiuu do pé maduro estava poderea\n",
      "~~~~~~~~~~~~~~~~~~~~~~~~~~~~~~~~~~~~~~~~~~~~~\n"
     ]
    }
   ],
   "source": [
    "escreva('boa noite')\n",
    "escreva('a banan que caiuu do pé maduro estava poderea')"
   ]
  },
  {
   "cell_type": "code",
   "execution_count": 15,
   "id": "b1eb3c42",
   "metadata": {},
   "outputs": [],
   "source": [
    "def contador(i,f,p):\n",
    "    print('    CONTADOR    ')\n",
    "    from time import sleep\n",
    "    cont=1\n",
    "    if i<f:\n",
    "        while cont<=f:\n",
    "            print(cont, end=' ')\n",
    "            cont+=p\n",
    "    elif i>f:\n",
    "        while cont>=f:\n",
    "            print(cont, end=' ')\n",
    "            cont-=p\n",
    "\n"
   ]
  },
  {
   "cell_type": "code",
   "execution_count": 17,
   "id": "10567715",
   "metadata": {},
   "outputs": [
    {
     "name": "stdout",
     "output_type": "stream",
     "text": [
      "    CONTADOR    \n",
      "1 -1 None\n"
     ]
    }
   ],
   "source": [
    "#print(contador(0,11,1))\n",
    "print(contador(10,-1,2))"
   ]
  },
  {
   "cell_type": "code",
   "execution_count": null,
   "id": "21213999",
   "metadata": {},
   "outputs": [],
   "source": [
    "for c in range(i,f,p):\n",
    "        sleep(0.5)\n",
    "        print(c, end='->')"
   ]
  }
 ],
 "metadata": {
  "kernelspec": {
   "display_name": "Python 3 (ipykernel)",
   "language": "python",
   "name": "python3"
  },
  "language_info": {
   "codemirror_mode": {
    "name": "ipython",
    "version": 3
   },
   "file_extension": ".py",
   "mimetype": "text/x-python",
   "name": "python",
   "nbconvert_exporter": "python",
   "pygments_lexer": "ipython3",
   "version": "3.9.13"
  }
 },
 "nbformat": 4,
 "nbformat_minor": 5
}
