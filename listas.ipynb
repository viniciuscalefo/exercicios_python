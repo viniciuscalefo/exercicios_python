{
 "cells": [
  {
   "cell_type": "code",
   "execution_count": null,
   "id": "1c7df7c0",
   "metadata": {},
   "outputs": [],
   "source": [
    "num=[2,5,6,8,9,455,4,6]\n",
    "num.append(10) #adiciona um elemento o final a lisat\n",
    "num.insert(1,78) #acresenta um elemnto na posição desejada\n",
    "num.pop() #remove o ultimo elemento (no caso o 10 )\n",
    "num.pop(0) #tbm pode ser passado um paramnetro referenciado o index do item de remoção \n",
    "print(num)\n",
    "    "
   ]
  },
  {
   "cell_type": "markdown",
   "id": "47e9596b",
   "metadata": {},
   "source": [
    "#Exercicios "
   ]
  },
  {
   "cell_type": "code",
   "execution_count": null,
   "id": "5e3a6843",
   "metadata": {},
   "outputs": [],
   "source": [
    "#incompleto\n",
    "lista=[]\n",
    "for c in range(0,5):\n",
    "    lista.append(int(input(f'Digite um valor para a posição {c}: ')))\n",
    "print(lista)\n",
    "print(f'O maior numero é {max(lista)} e esta na posição {enumerate(lista)} ')\n",
    "print(f'O menor numero é {min(lista)} e esta na posição {enumerate(lista)} ')"
   ]
  },
  {
   "cell_type": "code",
   "execution_count": 1,
   "id": "a8e5f3aa",
   "metadata": {},
   "outputs": [
    {
     "name": "stdout",
     "output_type": "stream",
     "text": [
      "Digite um valor: 8\n",
      "numero 8 adicionado \n",
      "Quer continuar S/N s\n",
      "Digite um valor: 10\n",
      "numero 10 adicionado \n",
      "Quer continuar S/N s\n",
      "Digite um valor: 9\n",
      "numero 9 adicionado \n",
      "Quer continuar S/N s\n",
      "Digite um valor: 9\n",
      "Valor duplicado, n vou adicionar  \n",
      "Quer continuar S/N n\n",
      "-=-=-=-=-=-=-=-=-=-=-=-=\n",
      "A lista gerada foi [8, 9, 10] \n"
     ]
    }
   ],
   "source": [
    "num=[]\n",
    "\n",
    "while True:\n",
    "    val=int(input('Digite um valor: '))\n",
    "    if val not in num:\n",
    "        num.append(val)\n",
    "        print(f'numero {val} adicionado ')\n",
    "    else:\n",
    "        print('Valor duplicado, n vou adicionar  ')\n",
    "    conti=' '\n",
    "    if conti not in 'NnSs':\n",
    "        conti=str(input('Quer continuar S/N ')).strip().upper()[0]\n",
    "    if conti in 'Nn':\n",
    "        break\n",
    "\n",
    "print('-='*12)\n",
    "num.sort()\n",
    "print(f'A lista gerada foi {num} ')"
   ]
  },
  {
   "cell_type": "code",
   "execution_count": 2,
   "id": "6cd12725",
   "metadata": {},
   "outputs": [
    {
     "name": "stdout",
     "output_type": "stream",
     "text": [
      "digite um numero 7\n",
      "digite um numero 8\n",
      "digite um numero 5\n",
      "digite um numero 6\n",
      "digite um numero 4\n",
      "[7, 8, 5, 6, 4]\n"
     ]
    }
   ],
   "source": [
    "#incompleto\n",
    "lista=[]\n",
    "for c in range(0,5):\n",
    "    n=int(input('digite um numero '))\n",
    "    if c==0 or lista [-1]:\n",
    "        lista.append(n)\n",
    "    \n",
    "print(lista)"
   ]
  },
  {
   "cell_type": "code",
   "execution_count": 9,
   "id": "5f8db77d",
   "metadata": {},
   "outputs": [
    {
     "name": "stdout",
     "output_type": "stream",
     "text": [
      "Digite um numero 7\n",
      "Quer continuar S/N s\n",
      "Digite um numero 8\n",
      "Quer continuar S/N s\n",
      "Digite um numero 65\n",
      "Quer continuar S/N s\n",
      "Digite um numero 7\n",
      "Quer continuar S/N s\n",
      "Digite um numero 2\n",
      "Quer continuar S/N s\n",
      "Digite um numero 65\n",
      "Quer continuar S/N n\n",
      "foram digitados 6 numeros\n",
      "a lista gerada foi [2, 7, 7, 8, 65, 65]\n",
      "lista invertida [2, 7, 7, 8, 65, 65]\n"
     ]
    }
   ],
   "source": [
    "nums=[]\n",
    "while True:\n",
    "    nums.append(int(input('Digite um numero ')))\n",
    "    r=str(input('Quer continuar S/N '))\n",
    "    if r in 'Nn':\n",
    "        break\n",
    "nums.sort()\n",
    "print(f'foram digitados {len(nums)} numeros')\n",
    "nums.sort(reverse=True)\n",
    "print(f'a lista gerada foi {nums}')\n",
    "if 5 in nums:\n",
    "    print('Tem 5 na lista ')\n",
    "else:\n",
    "    print('N tem 5 na lista ')\n"
   ]
  },
  {
   "cell_type": "code",
   "execution_count": 7,
   "id": "071f8978",
   "metadata": {},
   "outputs": [
    {
     "name": "stdout",
     "output_type": "stream",
     "text": [
      "Digite um numero 9\n",
      "Deseja continuar S/N s\n",
      "Digite um numero 5\n",
      "Deseja continuar S/N s\n",
      "Digite um numero 10\n",
      "Deseja continuar S/N s\n",
      "Digite um numero 6\n",
      "Deseja continuar S/N s\n",
      "Digite um numero 0\n",
      "Deseja continuar S/N s\n",
      "Digite um numero 69\n",
      "Deseja continuar S/N n\n",
      "Lista completa [9, 5, 10, 6, 0, 69]\n",
      "Lista do pares [10, 6, 0]\n",
      "Lista do impares [9, 5, 69]\n"
     ]
    }
   ],
   "source": [
    "li=[]\n",
    "li_impar=[]\n",
    "li_par=[]\n",
    "\n",
    "while True:\n",
    "    n=int(input('Digite um numero '))\n",
    "    li.append(n)\n",
    "    if n%2==0:\n",
    "        li_par.append(n)\n",
    "    else:\n",
    "        li_impar.append(n)\n",
    "    conti=str(input('Deseja continuar S/N ')).strip().upper()[0]\n",
    "    if conti in 'Nn':\n",
    "        break\n",
    "print(f'Lista completa {li}')\n",
    "print(f'Lista do pares {li_par}')\n",
    "print(f'Lista do impares {li_impar}')"
   ]
  },
  {
   "cell_type": "code",
   "execution_count": 25,
   "id": "38de04ec",
   "metadata": {},
   "outputs": [
    {
     "name": "stdout",
     "output_type": "stream",
     "text": [
      "Digite uma expressão (((8 . 4 + 3\n",
      "expressão inválida \n"
     ]
    }
   ],
   "source": [
    "#expre=('(((8 . 4 + 3) ÷ 7 + (3 + 15 ÷ 5) . 3))')\n",
    "expre=str(input('Digite uma expressão '))\n",
    "paren=expre.count('(')\n",
    "paren1=expre.count(')')\n",
    "total=paren+paren1\n",
    "if paren==paren1:\n",
    "    print('Expressão válida ')\n",
    "else:\n",
    "    print('expressão inválida ')"
   ]
  },
  {
   "cell_type": "code",
   "execution_count": 17,
   "id": "9a79bf85",
   "metadata": {},
   "outputs": [
    {
     "name": "stdout",
     "output_type": "stream",
     "text": [
      "Digite o 1° valor 1\n",
      "Digite o 2° valor 4\n",
      "Digite o 3° valor 5\n",
      "Digite o 4° valor 6\n",
      "Digite o 5° valor 9\n",
      "Digite o 6° valor 8\n",
      "Digite o 7° valor 7\n",
      "Os numeros pares digitaod foram [4, 6, 8]\n",
      "Os numeros impares digitaod foram [1, 5, 7, 9]\n"
     ]
    }
   ],
   "source": [
    "nums=[[],[]]\n",
    "n=0\n",
    "for c in range(1,8):\n",
    "    n=int(input(f'Digite o {c}° valor '))\n",
    "    if n%2==0:\n",
    "        nums[0].append(n)\n",
    "    else:\n",
    "        nums[1].append(n)\n",
    "        \n",
    "nums[0].sort()\n",
    "nums[1].sort()\n",
    "print('Os numeros pares digitaod foram {}'.format(nums[0]))\n",
    "print('Os numeros impares digitaod foram {}'.format(nums[1]))"
   ]
  },
  {
   "cell_type": "code",
   "execution_count": null,
   "id": "4d7807aa",
   "metadata": {},
   "outputs": [],
   "source": []
  }
 ],
 "metadata": {
  "kernelspec": {
   "display_name": "Python 3 (ipykernel)",
   "language": "python",
   "name": "python3"
  },
  "language_info": {
   "codemirror_mode": {
    "name": "ipython",
    "version": 3
   },
   "file_extension": ".py",
   "mimetype": "text/x-python",
   "name": "python",
   "nbconvert_exporter": "python",
   "pygments_lexer": "ipython3",
   "version": "3.9.13"
  }
 },
 "nbformat": 4,
 "nbformat_minor": 5
}
