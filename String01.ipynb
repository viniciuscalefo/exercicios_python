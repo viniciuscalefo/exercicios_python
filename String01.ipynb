{
 "cells": [
  {
   "cell_type": "markdown",
   "metadata": {},
   "source": [
    "# Exercícios\n",
    "\n",
    "## 1. Cadastro de CPF\n",
    "\n",
    "Crie um programa para cadastro de CPF de clientes que recebe o CPF em um input box apenas com números.\n",
    "\n",
    "Ex: 'Insira seu CPF (digite apenas números)'\n",
    "\n",
    "Caso o usuário digite algo diferente de números ou digite menos de 11 caracteres (tamanho do CPF brasileiro), o programa deve exibir uma mensagem de \"Digite seu CPF corretamente e digite apenas números\""
   ]
  },
  {
   "cell_type": "code",
   "execution_count": 10,
   "metadata": {},
   "outputs": [
    {
     "name": "stdout",
     "output_type": "stream",
     "text": [
      "Digite seu CPF (apenas numeros )0000000000m\n",
      "CPF INVÁLIDO\n"
     ]
    }
   ],
   "source": [
    "cpf=(input('Digite seu CPF (apenas numeros )'))\n",
    "if len(cpf)==11 and cpf.isnumeric()==True:#is numeric compara o valor digitado e retorna True só se tudo for numero\n",
    "    print('CPF VÁLIDO')\n",
    "else:\n",
    "    print('CPF INVÁLIDO')"
   ]
  },
  {
   "cell_type": "markdown",
   "metadata": {},
   "source": [
    "## 2. Melhorando nosso Cadastro de CPF\n",
    "\n",
    "Agora, além das validações anteriores, vamos criar um input que permita que o usuário insira pontos, traços e inclusive espaços vazios.\n",
    "\n",
    "Nosso programa deve \"tratar\" o que o usuário inserir para padronizar o CPF dele em apenas números.\n",
    "\n",
    "A verificação de tamanho do CPF com 11 caracteres continua válida, mas ela só deve ser feita depois de retirar todos os pontos, traços e espaços do CPF que o cliente inserir e, uma vez retirados pontos, traços e espaços, devem sobrar apenas números no CPF. Qualquer outro caractere deve ser considerado inválido.\n",
    "\n",
    "No final, nosso programa deve exibir uma mensagem para o usuário, caso ele tenha inserido o CPF inválido ou então apenas deve printar o CPF correto já só com número."
   ]
  },
  {
   "cell_type": "code",
   "execution_count": 33,
   "metadata": {},
   "outputs": [
    {
     "name": "stdout",
     "output_type": "stream",
     "text": [
      "Digite seu CPF 479.537.268-31\n",
      "47953726831\n"
     ]
    }
   ],
   "source": [
    "cpf=(input('Digite seu CPF ')).strip().replace('.','').replace('-','') #tratando a string o strip() retira os espaçoa ants e depois \n",
    "# e o .replace() troca o . pelo espaço vazio, qo faz com que os numeros fiquem juntos e eu poça verificar igual antes \n",
    "if cpf==11 and cpf.isnumeric==True:\n",
    "    print('CPF VÁLIDO')\n",
    "else:\n",
    "    print('CPF INVÁLIDP ')"
   ]
  },
  {
   "cell_type": "markdown",
   "metadata": {},
   "source": [
    "## 3. Cadastro de e-mails\n",
    "\n",
    "- A Hashtag sempre se comunica com seus clientes por e-mail. Para isso, a gente tem em cada página um cadastro de nome e e-mail. Nesse cadastro, nosso sistema verifica se o e-mail que a pessoa inseriu é um e-mail válido, verificando se ele tem '@' e se depois do '@' tem algum ponto, afinal:\n",
    "\n",
    "- liragmail.com NÃO é um e-mail válido\n",
    "- lira@gmail NÃO é um e-mail válido\n",
    "- lira@gmail.com é um e-mail válido\n",
    "\n",
    "Crie um programa que permita o cadastro de nome e e-mail de uma pessoa (por meio de inputs) e que verifique:\n",
    "1. Se nome e e-mail foram preenchidos, caso contrário ele deve avisar para preencher todos os dados corretamente\n",
    "2. Se o e-mail contém '@' e se depois do '@' existe algum '.', caso contrário ele deve exibir uma mensagem de e-mail inválido\n",
    "\n",
    "Obs: Pode te ajudar lembrar do método .find da aula de Métodos de String. Você pode testar o que ele dá como resposta caso ele não encontre um item dentro da string"
   ]
  },
  {
   "cell_type": "code",
   "execution_count": 50,
   "metadata": {},
   "outputs": [
    {
     "name": "stdout",
     "output_type": "stream",
     "text": [
      "Digite seu nome liu\n",
      "Digite seu email laligcom\n",
      "email inválido\n"
     ]
    }
   ],
   "source": [
    "nome=str(input('Digite seu nome ')).strip()\n",
    "mail=str(input('Digite seu email ')).strip()\n",
    "arroba=(mail.count('@')) #contador do arroba\n",
    "ponto=(mail.count('.'))# contador de pontos \n",
    "\n",
    "if nome!=''and mail !='': # se o arroba e o ponto for diferete de vazio ent entra no outro IF\n",
    "    if arroba==1 and ponto ==1:\n",
    "        print( 'email cadatrado')\n",
    "        \n",
    "    elif arroba!=1 or ponto !=1: #se tiver mia de um arroba ou ponto o mail é inválidado\n",
    "        print('email inválido')\n",
    "    \n",
    "else:\n",
    "    print('Preencha os campos \"NOME\" e \"EMAIL\"')"
   ]
  },
  {
   "cell_type": "code",
   "execution_count": null,
   "metadata": {},
   "outputs": [],
   "source": []
  },
  {
   "cell_type": "code",
   "execution_count": null,
   "metadata": {},
   "outputs": [],
   "source": []
  }
 ],
 "metadata": {
  "kernelspec": {
   "display_name": "Python 3 (ipykernel)",
   "language": "python",
   "name": "python3"
  },
  "language_info": {
   "codemirror_mode": {
    "name": "ipython",
    "version": 3
   },
   "file_extension": ".py",
   "mimetype": "text/x-python",
   "name": "python",
   "nbconvert_exporter": "python",
   "pygments_lexer": "ipython3",
   "version": "3.9.13"
  }
 },
 "nbformat": 4,
 "nbformat_minor": 4
}
