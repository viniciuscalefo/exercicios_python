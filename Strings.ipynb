{
 "cells": [
  {
   "cell_type": "markdown",
   "id": "2b04bbea",
   "metadata": {},
   "source": [
    "# Strings\n",
    "\n",
    "<span style=\"color: red;\"><b>Todos os exercícios são feitos partindo-se do pressuposto de que todas as entradas são dadas de forma correta. Casos limite não mencionados no enunciado não são abordados porque não fazem parte do exercício.</b></span>"
   ]
  },
  {
   "cell_type": "markdown",
   "id": "5b1f33b9",
   "metadata": {},
   "source": [
    "#### 1. Tamanho de strings. Faça um programa que leia 2 strings e informe o conteúdo delas seguido do seu comprimento. Informe também se as duas strings possuem o mesmo comprimento e são iguais ou diferentes no conteúdo.\n",
    "<pre>\n",
    "Compara duas strings\n",
    "String 1: Brasil Hexa 2006\n",
    "String 2: Brasil! Hexa 2006!\n",
    "Tamanho de \"Brasil Hexa 2006\": 16 caracteres\n",
    "Tamanho de \"Brasil! Hexa 2006!\": 18 caracteres\n",
    "As duas strings são de tamanhos diferentes.\n",
    "As duas strings possuem conteúdo diferente.\n",
    "</pre>"
   ]
  },
  {
   "cell_type": "code",
   "execution_count": 4,
   "id": "c492b657",
   "metadata": {},
   "outputs": [
    {
     "name": "stdout",
     "output_type": "stream",
     "text": [
      "digite a 1° String Brasil! Hexa 2006!\n",
      "digite a 2° String Brasil! Hexa 2006p\n",
      "string 1: Brasil! Hexa 2006! \n",
      "string 2: Brasil! Hexa 2006p \n",
      "tamanho de \"Brasil! Hexa 2006!\": 18\n",
      "tamanho de \"Brasil! Hexa 2006p\": 18\n",
      "O tamando das strings é igual\n",
      "As duas strings possuem conteúdo diferente.\n"
     ]
    }
   ],
   "source": [
    "st1=input('digite a 1° String ').strip()\n",
    "st2=input('digite a 2° String ').strip()\n",
    "\n",
    "print(f'tamanho de \"{st1}\": {len(st1)}')\n",
    "print(f'tamanho de \"{st2}\": {len(st2)}')\n",
    "\n",
    "if st1==st2:\n",
    "    print('As Strings digitadas são iguais e tem mesmo tamanho ')\n",
    "if len(st1)==len(st2):\n",
    "    print('O tamando das strings é igual')\n",
    "if st1!=st2:\n",
    "    print('As duas strings possuem conteúdo diferente.')"
   ]
  },
  {
   "cell_type": "markdown",
   "id": "c3068a53",
   "metadata": {},
   "source": [
    "#### 2. Valida e corrige número de telefone. Faça um programa que leia um número de telefone, e corrija o número no caso deste conter somente 7 dígitos, acrescentando o '3' na frente. O usuário pode informar o número com ou sem o traço separador.\n",
    "<pre>\n",
    "Valida e corrige número de telefone\n",
    "Telefone: 461-0133\n",
    "Telefone possui 7 dígitos. Vou acrescentar o digito três na frente.\n",
    "Telefone corrigido sem formatação: 34610133\n",
    "Telefone corrigido com formatação: 3461-0133\n",
    "</pre>"
   ]
  },
  {
   "cell_type": "code",
   "execution_count": 12,
   "id": "0308566d",
   "metadata": {},
   "outputs": [
    {
     "name": "stdout",
     "output_type": "stream",
     "text": [
      "*^*^*^*^*^*^*^*^*^*^*^*^*^*^*^*^*^*^*^*^\n",
      "Valida e corrige número de telefone\n",
      "*^*^*^*^*^*^*^*^*^*^*^*^*^*^*^*^*^*^*^*^\n",
      "Telefone 347-0022\n",
      "Telefone possui 7 dígitos. Vou acrescentar o digito três na frente.\n",
      "telefone corrigido sem formatação 33470022\n",
      "telefone corrigido com formatação 3470-022\n"
     ]
    }
   ],
   "source": [
    "print('*^'*20)\n",
    "print('Valida e corrige número de telefone')\n",
    "print('*^'*20)\n",
    "\n",
    "n=str(input('Telefone ')).strip().replace('-','')\n",
    "\n",
    "if len(n)<8:\n",
    "    \n",
    "    print('Telefone possui 7 dígitos. Vou acrescentar o digito três na frente.')\n",
    "    print(f'telefone corrigido sem formatação 3{n}')\n",
    "    print(f'telefone corrigido com formatação {n[:4]}-{n[4:]}')"
   ]
  }
 ],
 "metadata": {
  "kernelspec": {
   "display_name": "Python 3 (ipykernel)",
   "language": "python",
   "name": "python3"
  },
  "language_info": {
   "codemirror_mode": {
    "name": "ipython",
    "version": 3
   },
   "file_extension": ".py",
   "mimetype": "text/x-python",
   "name": "python",
   "nbconvert_exporter": "python",
   "pygments_lexer": "ipython3",
   "version": "3.9.13"
  }
 },
 "nbformat": 4,
 "nbformat_minor": 5
}
