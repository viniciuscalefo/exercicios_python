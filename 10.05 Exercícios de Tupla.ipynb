{
 "cells": [
  {
   "cell_type": "markdown",
   "metadata": {},
   "source": [
    "# Exercícios\n",
    "\n",
    "São exercícios bem parecidos com os que fizemos com listas. Mas na tupla, podemos não só trabalhar com índices, mas fazer o \"unpacking\" das tuplas, o que pode facilitar nossos códigos.\n",
    "\n",
    "## 1. Análise de Vendas\n",
    "\n",
    "Nesse exercício vamos fazer uma \"análise simples\" de atingimento de Meta.\n",
    "\n",
    "Temos uma lista com os vendedores e os valores de vendas e queremos identificar (printar) quais os vendedores que bateram a meta e qual foi o valor que eles venderam."
   ]
  },
  {
   "cell_type": "code",
   "execution_count": 7,
   "metadata": {},
   "outputs": [
    {
     "name": "stdout",
     "output_type": "stream",
     "text": [
      "O vendedor João bateu a meta e vendeu 15000.0\n",
      "O vendedor Julia bateu a meta e vendeu 27000.0\n",
      "O vendedor Ana bateu a meta e vendeu 10300.0\n"
     ]
    }
   ],
   "source": [
    "meta = 10000\n",
    "vendas = [\n",
    "    ('João', 15000),\n",
    "    ('Julia', 27000),\n",
    "    ('Marcus', 9900),\n",
    "    ('Maria', 3750),\n",
    "    ('Ana', 10300),\n",
    "    ('Alon', 7870),\n",
    "]\n",
    "for item in (vendas):\n",
    "    nome,num=item # fazendo um unpacking da tupla, onde eu pego um nome que faz sentido para os valores dentro da tupla\n",
    "    # e se for mais de um seprara por virgulas e atribuo eles ao meu contador\n",
    "    if num>meta:\n",
    "        print(f'O vendedor {nome} bateu a meta e vendeu {num:.1f}')"
   ]
  },
  {
   "cell_type": "markdown",
   "metadata": {},
   "source": [
    "## 2. Comparação com Ano Anterior\n",
    "\n",
    "Digamos que você está analisando as vendas de produtos de um ecommerce e quer identificar quais produtos tiveram no ano de 2020 mais vendas do que no ano de 2019, para reportar isso para a diretoria.\n",
    "\n",
    "Sua resposta pode ser um print de cada produto, qual foi a venda de 2019, a venda de 2020 e o % de crescimento de 2020 para 2019.\n",
    "\n",
    "Lembrando, para calcular o % de crescimento de um produto de um ano para o outro, podemos fazer: (vendas_produto2020/vendas_produto2019 - 1)\n",
    "\n",
    "A lógica da tupla é: (produto, vendas2019, vendas2020)"
   ]
  },
  {
   "cell_type": "code",
   "execution_count": 16,
   "metadata": {},
   "outputs": [
    {
     "name": "stdout",
     "output_type": "stream",
     "text": [
      "iphone teve 558147 vendas em 2019, 951642 vendas em 2020. Crescimento de 70.5%\n",
      "tv teve 405252 vendas em 2019, 787604 vendas em 2020. Crescimento de 94.3%\n",
      "máquina de café teve 718654 vendas em 2019, 867660 vendas em 2020. Crescimento de 20.7%\n",
      "notebook dell teve 422760 vendas em 2019, 694913 vendas em 2020. Crescimento de 64.4%\n",
      "notebook hp teve 154753 vendas em 2019, 539704 vendas em 2020. Crescimento de 248.8%\n",
      "microsoft surface teve 438508 vendas em 2019, 667179 vendas em 2020. Crescimento de 52.1%\n",
      "webcam teve 237467 vendas em 2019, 295633 vendas em 2020. Crescimento de 24.5%\n",
      "caixa de som teve 489705 vendas em 2019, 725316 vendas em 2020. Crescimento de 48.1%\n",
      "microfone teve 328311 vendas em 2019, 644622 vendas em 2020. Crescimento de 96.3%\n",
      "câmera canon teve 591120 vendas em 2019, 994303 vendas em 2020. Crescimento de 68.2%\n"
     ]
    }
   ],
   "source": [
    "vendas_produtos = [('iphone', 558147, 951642), ('galaxy', 712350, 244295), ('ipad', 573823, 26964), ('tv', 405252, 787604), ('máquina de café', 718654, 867660), ('kindle', 531580, 78830), ('geladeira', 973139, 710331), ('adega', 892292, 646016), ('notebook dell', 422760, 694913), ('notebook hp', 154753, 539704), ('notebook asus', 887061, 324831), ('microsoft surface', 438508, 667179), ('webcam', 237467, 295633), ('caixa de som', 489705, 725316), ('microfone', 328311, 644622), ('câmera canon', 591120, 994303)]\n",
    "\n",
    "for itens in (vendas_produtos):\n",
    "    produto,vendas_19,vendas_20=itens # fazendo um unpacking da tupla, onde eu pego um nome que faz sentido para os valores dentro da tupla\n",
    "    # e se for mais de um seprara por virgulas e atribuo eles ao meu contador e na msm ordem em que aparecem na tupla\n",
    "    if vendas_20>vendas_19:\n",
    "        variação=((vendas_20/vendas_19)-1)\n",
    "        print(f'{produto} teve {vendas_19} vendas em 2019, {vendas_20} vendas em 2020. Crescimento de {variação:.1%}')"
   ]
  },
  {
   "cell_type": "code",
   "execution_count": null,
   "metadata": {},
   "outputs": [],
   "source": []
  }
 ],
 "metadata": {
  "kernelspec": {
   "display_name": "Python 3 (ipykernel)",
   "language": "python",
   "name": "python3"
  },
  "language_info": {
   "codemirror_mode": {
    "name": "ipython",
    "version": 3
   },
   "file_extension": ".py",
   "mimetype": "text/x-python",
   "name": "python",
   "nbconvert_exporter": "python",
   "pygments_lexer": "ipython3",
   "version": "3.9.13"
  }
 },
 "nbformat": 4,
 "nbformat_minor": 4
}
