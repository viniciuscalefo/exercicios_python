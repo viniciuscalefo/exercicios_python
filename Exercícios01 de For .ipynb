{
 "cells": [
  {
   "cell_type": "markdown",
   "metadata": {},
   "source": [
    "# Exercícios\n",
    "\n",
    "## 1. Criando um Registro de Hóspedes\n",
    "\n",
    "Digamos que você está criando o sistema para registrar a chegada de hóspedes em um hotel. No hotel, os hóspedes podem ter quartos com 1, 2, 3 e 4 pessoas. Seu sistema deve conseguir:\n",
    "\n",
    "1. Identificar quantas pessoas o hóspede que acabou de chegar vai ter no quarto (perguntando por meio de input)\n",
    "2. De acordo com a quantidade de pessoas do hóspede, ele deve fazer um for para perguntar o cpf e o nome de cada pessoa, a fim de registrá-la no quarto (2 inputs para cada pessoa, 1 para o cpf e outro para o nome)\n",
    "3. O seu programa então deve gerar uma lista com todas as pessoas que ficarão no quarto em que cada item dessa lista é o nome da pessoa e o cpf da pessoa, assim:"
   ]
  },
  {
   "cell_type": "raw",
   "metadata": {},
   "source": [
    "quarto = [\n",
    "    ['João', 'cpf:00000000000'],\n",
    "    ['Julia', 'cpf:11111111111'],\n",
    "    ['Marcus', 'cpf:22222222222'],\n",
    "    ['Maria', 'cpf:33333333333'],\n",
    "]"
   ]
  },
  {
   "cell_type": "markdown",
   "metadata": {},
   "source": [
    "- Para simplificar, não vamos nos preocupar com possibilidades de \"tentar colocar mais de 1 hóspede, digitar o cpf errado, etc. Nosso objetivo é treinar a criação de uma rotina de cadastro"
   ]
  },
  {
   "cell_type": "code",
   "execution_count": 1,
   "metadata": {},
   "outputs": [
    {
     "name": "stdout",
     "output_type": "stream",
     "text": [
      "Quantas pessoas ficarão no quarto ? 3\n",
      "Nome: ale\n",
      "CPF: 0000000000\n",
      "Nome: xande\n",
      "CPF: 4444545645\n",
      "Nome: vini\n",
      "CPF: 55955555\n",
      "[['ale', 'cpf0000000000 '], ['xande', 'cpf4444545645 '], ['vini', 'cpf55955555 ']]\n",
      "\n"
     ]
    }
   ],
   "source": [
    "pessoas=int(input('Quantas pessoas ficarão no quarto ? '))\n",
    "q=[] #lista vazia que vai receber os valores \n",
    "for c in range (pessoas):\n",
    "    nome=(input('Nome: '))\n",
    "    cpf=(input('CPF: ' ))\n",
    "    hospede=[nome,'cpf{} '.format(cpf)]#criando uma lista chamada hospede, que vai ter o nome e cpf de cada hospede\n",
    "    #bom print esse , ja coloca as duas coisas juntas ao invez de crias ouiyra lisat e ter que linkr tudo depois\n",
    "    \n",
    "    q.append(hospede) #adicinado a lista de hospedes a lista do quanto, pRA TER AS INFORMAÇÕES DE CADA UM SEPARADAS \n",
    "    \n",
    "print(f'{q}\\n')"
   ]
  },
  {
   "cell_type": "markdown",
   "metadata": {},
   "source": [
    "## 2. Análise de Vendas\n",
    "\n",
    "Nesse exercício vamos fazer uma \"análise simples\" de atingimento de Meta.\n",
    "\n",
    "Temos uma lista com os vendedores e os valores de vendas e queremos identificar (printar) quais os vendedores que bateram a meta e qual foi o valor que eles venderam."
   ]
  },
  {
   "cell_type": "code",
   "execution_count": 2,
   "metadata": {},
   "outputs": [
    {
     "name": "stdout",
     "output_type": "stream",
     "text": [
      "O funcionario João bateu a meta de 10.000 com 15000 vendas\n",
      "O funcionario Julia bateu a meta de 10.000 com 27000 vendas\n",
      "O funcionario Ana bateu a meta de 10.000 com 10300 vendas\n",
      "ACABOU\n"
     ]
    }
   ],
   "source": [
    "meta = 10000\n",
    "vendas = [\n",
    "    ['João', 15000],\n",
    "    ['Julia', 27000],\n",
    "    ['Marcus', 9900],\n",
    "    ['Maria', 3750],\n",
    "    ['Ana', 10300],\n",
    "    ['Alon', 7870],\n",
    "]\n",
    "for c in range (0,5):\n",
    "    if vendas[c][1]>meta: #se vendas c(contador que varia para varrer a lista)[1] as vendas sempre vão estar no indice 1 ent é uma ctt\n",
    "                   # for maior que a meta ent...\n",
    "        print(f'O funcionario {vendas[c][0]} bateu a meta de 10.000 com {vendas[c][1]} vendas')\n",
    "               # o nome do funcinario na lista de vendas [c] (contador) [0]na posição 0 que é o nome do funcionario \n",
    "              # bateu a meta de vendas no indice 'c' no indice 1 \n",
    "print('ACABOU')\n"
   ]
  },
  {
   "cell_type": "markdown",
   "metadata": {},
   "source": [
    "## 3. Comparação com Ano Anterior\n",
    "\n",
    "Digamos que você está analisando as vendas de produtos de um ecommerce e quer identificar quais produtos tiveram no ano de 2020 mais vendas do que no ano de 2019, para reportar isso para a diretoria.\n",
    "\n",
    "Sua resposta pode ser um print de cada produto, qual foi a venda de 2019, a venda de 2020 e o % de crescimento de 2020 para 2019.\n",
    "\n",
    "Lembrando, para calcular o % de crescimento de um produto de um ano para o outro, podemos fazer: (vendas_produto2020/vendas_produto2019 - 1)\n",
    "\n",
    "Dica: lembre do enumerate, ele pode facilitar seu \"for\""
   ]
  },
  {
   "cell_type": "code",
   "execution_count": 30,
   "metadata": {},
   "outputs": [
    {
     "name": "stdout",
     "output_type": "stream",
     "text": [
      "iphone AUMENTO de 70.50%\n",
      "galaxy  QUEDA de -65.71%\n",
      "ipad  QUEDA de -95.30%\n",
      "tv AUMENTO de 94.35%\n",
      "máquina de café AUMENTO de 20.73%\n",
      "kindle  QUEDA de -85.17%\n",
      "geladeira  QUEDA de -27.01%\n",
      "adega  QUEDA de -27.60%\n",
      "notebook dell AUMENTO de 64.38%\n",
      "notebook hp AUMENTO de 248.75%\n",
      "notebook asus  QUEDA de -63.38%\n",
      "microsoft surface AUMENTO de 52.15%\n",
      "webcam AUMENTO de 24.49%\n",
      "caixa de som AUMENTO de 48.11%\n",
      "microfone AUMENTO de 96.34%\n",
      "câmera canon AUMENTO de 68.21%\n",
      "Produtos com aumento ['iphone', 'tv', 'máquina de café', 'notebook dell', 'notebook hp', 'microsoft surface', 'webcam', 'caixa de som', 'microfone', 'câmera canon']\n",
      "Produtos com queda ['galaxy', 'ipad', 'kindle', 'geladeira', 'adega', 'notebook asus']\n"
     ]
    }
   ],
   "source": [
    "aumento=[]\n",
    "queda=[]\n",
    "produtos = ['iphone', 'galaxy', 'ipad', 'tv', 'máquina de café', 'kindle', 'geladeira', 'adega', 'notebook dell', 'notebook hp', 'notebook asus', 'microsoft surface', 'webcam', 'caixa de som', 'microfone', 'câmera canon']\n",
    "vendas2019 = [558147,712350,573823,405252,718654,531580,973139,892292,422760,154753,887061,438508,237467,489705,328311,591120]\n",
    "vendas2020 = [951642,244295,26964,787604,867660,78830,710331,646016,694913,539704,324831,667179,295633,725316,644622,994303]\n",
    "for c in range (len(produtos)): #calculando um alcançe para o range \n",
    "    \n",
    "    diferença=(vendas2020[c]/vendas2019[c]-1) #calculando a diferença em % de todos os produtos de forma automatica com o 'c'\n",
    "    if diferença>0:#separando os positivos    # que muda a cada ciclo\n",
    "        print('{} AUMENTO de {:.2%}'.format(produtos[c],diferença))\n",
    "        aumento.append(produtos[c]) #alem de usar o contador para calcular a diferença tbm usei para achar o nome dos produtos, \n",
    "                                   #já que todos estão na msm ordem usando o nome da lista e o contador : produtos[c]\n",
    "    else:\n",
    "        print('{}  QUEDA de {:.2%}'.format(produtos[c],diferença))\n",
    "        queda.append(produtos[c])\n",
    "print(f'Produtos com aumento {aumento}')\n",
    "print(f'Produtos com queda {queda}')\n",
    "        \n",
    "    \n",
    "   # print(' {} de 2020 para 2019 teve uma variação de {:.2%}'.format(produtos[c],diferença))"
   ]
  },
  {
   "cell_type": "code",
   "execution_count": null,
   "metadata": {},
   "outputs": [],
   "source": []
  }
 ],
 "metadata": {
  "kernelspec": {
   "display_name": "Python 3 (ipykernel)",
   "language": "python",
   "name": "python3"
  },
  "language_info": {
   "codemirror_mode": {
    "name": "ipython",
    "version": 3
   },
   "file_extension": ".py",
   "mimetype": "text/x-python",
   "name": "python",
   "nbconvert_exporter": "python",
   "pygments_lexer": "ipython3",
   "version": "3.9.13"
  }
 },
 "nbformat": 4,
 "nbformat_minor": 4
}
