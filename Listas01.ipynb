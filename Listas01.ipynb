{
 "cells": [
  {
   "cell_type": "markdown",
   "metadata": {},
   "source": [
    "# Exercícios\n",
    "\n",
    "## 1. Faturamento do Melhor e do Pior Mês do Ano\n",
    "\n",
    "Qual foi o valor de vendas do melhor mês do Ano?\n",
    "E valor do pior mês do ano?"
   ]
  },
  {
   "cell_type": "code",
   "execution_count": 50,
   "metadata": {},
   "outputs": [
    {
     "name": "stdout",
     "output_type": "stream",
     "text": [
      "a maior venda foi de 49051 reais e a ,menor foi de 9650 reais \n"
     ]
    }
   ],
   "source": [
    "meses = ['jan', 'fev', 'mar', 'abr', 'mai', 'jun', 'jul', 'ago', 'set', 'out', 'nov', 'dez']\n",
    "vendas_1sem = [25000, 29000, 22200, 17750, 15870, 19900]\n",
    "vendas_2sem = [19850, 20120, 17540, 15555, 49051, 9650]\n",
    "vendas=(vendas_1sem)+(vendas_2sem) #somando as duas listas, poderia usar o metodo extend tambem:vendas_1sem.extend(vendas_2sem)\n",
    "\n",
    "\n",
    "print(f'a maior venda foi de {max(vendas)} reais e a ,menor foi de {min(vendas)} reais ')"
   ]
  },
  {
   "cell_type": "markdown",
   "metadata": {},
   "source": [
    "## 2. Continuação\n",
    "\n",
    "Agora relacione as duas listas para printar 'O melhor mês do ano foi {} com {} vendas' e o mesmo para o pior mês do ano.\n",
    "\n",
    "Calcule também o faturamento total do Ano e quanto que o melhor mês representou do faturamento total.\n",
    "\n",
    "Obs: Para o faturamento total, pode usar a função sum(lista) que soma todos os itens de uma lista"
   ]
  },
  {
   "cell_type": "code",
   "execution_count": 55,
   "metadata": {},
   "outputs": [
    {
     "name": "stdout",
     "output_type": "stream",
     "text": [
      "o fautramento total foi de 261486 \n",
      "O melhor mês do ano foi nov com 49051 vendas oq representa 19%\n",
      "e pior mês do ano foi dez com 9650 vendas\n"
     ]
    }
   ],
   "source": [
    "vendao_pos=vendas.index(vendao) #descobrindo em qual posição da lisnta o produto mais vendido está e guardando esse valor(10) em uma variavel \n",
    "vendinha_pos=vendas.index(vendinha)#msm coisa so que com o que tem menos vendas, e guradando a poscição em uma variavel \n",
    "melhor_mes=meses[vendao_pos]#melhor mes é a posição do vendao, mas agora na lista de meses, o indice do vendao é 10 ent e como \n",
    "                           #se ele lesse melhor_mes= meses[10], que é o 11° item da lista de meses(nov)\n",
    "pior_mes=meses[vendinha_pos]\n",
    "fatu_total=sum(vendas) #somando todos os itens da lista \n",
    "rele=vendao/fatu_total\n",
    "\n",
    "print(f'o fautramento total foi de {fatu_total} ')\n",
    "print(f'''O melhor mês do ano foi {melhor_mes} com {vendao} vendas oq representa {round(rele*100)}%\n",
    "e pior mês do ano foi {pior_mes} com {vendinha} vendas''')"
   ]
  },
  {
   "cell_type": "markdown",
   "metadata": {},
   "source": [
    "## 3. Crie uma lista com o top 3 valores de vendas do ano (sem fazer \"no olho\")\n",
    "\n",
    "Dica: o método remove retira um item da lista."
   ]
  },
  {
   "cell_type": "code",
   "execution_count": 48,
   "metadata": {
    "scrolled": true
   },
   "outputs": [
    {
     "name": "stdout",
     "output_type": "stream",
     "text": [
      "[9650, 15555, 15870, 17540, 17750, 19850, 19900, 20120, 22200, 25000, 29000, 49051]\n",
      " As 3 maiores vendas foram: [25000, 29000, 49051] reais \n"
     ]
    }
   ],
   "source": [
    "meses1 = [25000, 29000, 22200, 17750, 15870, 19900,19850, 20120, 17540, 15555, 49051, 9650]\n",
    "ordem=sorted(meses1) #se quiser inverter a ordem cresente-> descresente: ordem=meses1.sort(reverse=True)\n",
    "print(ordem)\n",
    "print(f' As 3 maiores vendas foram: {ordem[-3:]} reais ')"
   ]
  },
  {
   "cell_type": "code",
   "execution_count": 60,
   "metadata": {},
   "outputs": [
    {
     "name": "stdout",
     "output_type": "stream",
     "text": [
      "o fautramento total foi de 261486 \n",
      "O melhor mês do ano foi nov com 49051 vendas oq representa 19%\n",
      "e pior mês do ano foi dez com 9650 vendas\n"
     ]
    }
   ],
   "source": [
    "vendinha=min(vendas)\n",
    "vendao=max(vendas)\n",
    "vendao_pos=vendas.index(vendao) #descobrindo em qual posição da lisnta o produto mais vendido está e guardando esse valor(10) em uma variavel \n",
    "vendinha_pos=vendas.index(vendinha)#msm coisa so que com o que tem menos vendas, e guradando a poscição em uma variavel \n",
    "melhor_mes=meses[vendao_pos]#melhor mes é a posição do vendao, mas agora na lista de meses, o indice do vendao é 10 ent e como \n",
    "                           #se ele lesse melhor_mes= meses[10], que é o 11° item da lista de meses(nov)\n",
    "pior_mes=meses[vendinha_pos]\n",
    "fatu_total=sum(vendas) #somando todos os itens da lista \n",
    "rele=vendao/fatu_total\n",
    "\n",
    "print(f'o fautramento total foi de {fatu_total} ')\n",
    "print(f'''O melhor mês do ano foi {melhor_mes} com {vendao} vendas oq representa {round(rele*100)}%\n",
    "e pior mês do ano foi {pior_mes} com {vendinha} vendas''')"
   ]
  },
  {
   "cell_type": "code",
   "execution_count": null,
   "metadata": {},
   "outputs": [],
   "source": []
  }
 ],
 "metadata": {
  "kernelspec": {
   "display_name": "Python 3 (ipykernel)",
   "language": "python",
   "name": "python3"
  },
  "language_info": {
   "codemirror_mode": {
    "name": "ipython",
    "version": 3
   },
   "file_extension": ".py",
   "mimetype": "text/x-python",
   "name": "python",
   "nbconvert_exporter": "python",
   "pygments_lexer": "ipython3",
   "version": "3.9.13"
  }
 },
 "nbformat": 4,
 "nbformat_minor": 4
}
