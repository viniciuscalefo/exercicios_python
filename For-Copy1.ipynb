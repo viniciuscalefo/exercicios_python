{
 "cells": [
  {
   "cell_type": "code",
   "execution_count": 7,
   "id": "7bfcd2df",
   "metadata": {},
   "outputs": [
    {
     "name": "stdout",
     "output_type": "stream",
     "text": [
      "1\n",
      "2\n",
      "3\n",
      "4\n",
      "FIM\n",
      "====================\n",
      "6\n",
      "5\n",
      "4\n",
      "3\n",
      "2\n",
      "1\n",
      "fim\n",
      "====================\n",
      "0\n",
      "2\n",
      "4\n",
      "6\n",
      "8\n",
      "fim\n"
     ]
    }
   ],
   "source": [
    "#CONTAR NORMAL\n",
    "for c in range (1,5):\n",
    "    print(c)\n",
    "print('FIM')\n",
    "print('=='*10)\n",
    "#CONTAR PARA TRAS \n",
    "for c in range (6,0,-1):\n",
    "    print(c)\n",
    "print('fim')\n",
    "print('=='*10)\n",
    "#pulando de 2 em 2 \n",
    "for c in range (0,10,2):\n",
    "    print(c)\n",
    "print('fim')"
   ]
  },
  {
   "cell_type": "code",
   "execution_count": 5,
   "id": "c955f0ec",
   "metadata": {},
   "outputs": [
    {
     "name": "stdout",
     "output_type": "stream",
     "text": [
      "6\n",
      "5\n",
      "4\n",
      "3\n",
      "2\n",
      "1\n",
      "fim\n"
     ]
    }
   ],
   "source": [
    "#CONTAR PARA TRAS \n",
    "for c in range (6,0,-1):\n",
    "    print(c)\n",
    "print('fim')\n"
   ]
  },
  {
   "cell_type": "markdown",
   "id": "88e650a4",
   "metadata": {},
   "source": [
    "# Exercicios \n"
   ]
  },
  {
   "cell_type": "code",
   "execution_count": 11,
   "id": "96f68d10",
   "metadata": {},
   "outputs": [
    {
     "name": "stdout",
     "output_type": "stream",
     "text": [
      "10\n",
      "9\n",
      "8\n",
      "7\n",
      "6\n",
      "5\n",
      "4\n",
      "3\n",
      "2\n",
      "1\n",
      "0\n",
      "BOOM FOGOS \n"
     ]
    }
   ],
   "source": [
    "#CONTAGEM REGRESSIVA PARA FOGOS DE ARTIFICio\n",
    "\n",
    "from time import sleep \n",
    "\n",
    "for c in range (10,-1,-1 ):\n",
    "    print(c)\n",
    "    sleep(0.2)\n",
    "print('BOOM FOGOS ')"
   ]
  },
  {
   "cell_type": "code",
   "execution_count": 23,
   "id": "e48ecbe6",
   "metadata": {},
   "outputs": [
    {
     "name": "stdout",
     "output_type": "stream",
     "text": [
      "2 - 4 - 6 - 8 - 10 - 12 - 14 - 16 - 18 - 20 - 22 - 24 - 26 - 28 - 30 - 32 - 34 - 36 - 38 - 40 - 42 - 44 - 46 - 48 - 50 - FIM\n",
      "2 - 4 - 6 - 8 - 10 - 12 - 14 - 16 - 18 - 20 - 22 - 24 - 26 - 28 - 30 - 32 - 34 - 36 - 38 - 40 - 42 - 44 - 46 - 48 - 50 - ACABOU\n"
     ]
    }
   ],
   "source": [
    "for c in range (1,51):\n",
    "    if c%2==0:\n",
    "        print(c, end=' - ')\n",
    "print('FIM')\n",
    "#solução com menor numero de laços \n",
    "for c in range (2,51,2):\n",
    "    print(c, end=' - ')\n",
    "print ('ACABOU')"
   ]
  },
  {
   "cell_type": "code",
   "execution_count": 36,
   "id": "b5d54fa2",
   "metadata": {},
   "outputs": [
    {
     "name": "stdout",
     "output_type": "stream",
     "text": [
      "a soma dos 83 valores é 20667 \n"
     ]
    }
   ],
   "source": [
    "s=0\n",
    "cont=0\n",
    "for c in range(1,501): #for c in range (1,501,2), para ja pular direto de 2 em 2\n",
    "    if c%2==1 and c%3==0: #condição para ele ser impar e multiplo de 3\n",
    "        s=s+c #s +=c          #toda vez que o laço passa pela condição o valor de 's' é incrementado  \n",
    "        cont=cont+1 #cont +=1\n",
    "print('a soma dos {} valores é {} '.format (cont, s))"
   ]
  },
  {
   "cell_type": "code",
   "execution_count": 38,
   "id": "497e98f0",
   "metadata": {},
   "outputs": [
    {
     "name": "stdout",
     "output_type": "stream",
     "text": [
      "Digite a tabuada de qual numero vc quer 85\n",
      "85 x 0 = 0 \n",
      "85 x 1 = 85 \n",
      "85 x 2 = 170 \n",
      "85 x 3 = 255 \n",
      "85 x 4 = 340 \n",
      "85 x 5 = 425 \n",
      "85 x 6 = 510 \n",
      "85 x 7 = 595 \n",
      "85 x 8 = 680 \n",
      "85 x 9 = 765 \n",
      "85 x 10 = 850 \n"
     ]
    }
   ],
   "source": [
    "#tabuada V2.0\n",
    "n=int(input('Digite a tabuada de qual numero vc quer '))\n",
    "for c in range(0,11):\n",
    "    print('{} x {} = {} '.format (n,c,(n*c)))\n"
   ]
  },
  {
   "cell_type": "code",
   "execution_count": null,
   "id": "65e0018a",
   "metadata": {},
   "outputs": [],
   "source": [
    "for c in range(0,6):\n",
    "    n=int(input('Digite um numero '))\n",
    "    print(n)"
   ]
  },
  {
   "cell_type": "code",
   "execution_count": 4,
   "id": "37d34f85",
   "metadata": {},
   "outputs": [
    {
     "name": "stdout",
     "output_type": "stream",
     "text": [
      "Digite um numero 10\n",
      "Digite um numero 10\n",
      "Digite um numero 10\n",
      "Digite um numero 10\n",
      "Digite um numero 5\n",
      "Digite um numero 5\n",
      "A soma dos numeros pares é 40\n"
     ]
    }
   ],
   "source": [
    "soma=0\n",
    "for c in range(0,6):\n",
    "    n=int(input('Digite um numero '))\n",
    "    if n%2==0:\n",
    "        soma=soma+n\n",
    "print(f'A soma dos numeros pares é {soma}')"
   ]
  },
  {
   "cell_type": "code",
   "execution_count": 16,
   "id": "a50952a7",
   "metadata": {},
   "outputs": [
    {
     "name": "stdout",
     "output_type": "stream",
     "text": [
      "====================\n",
      "10 TERMOS DE UMA PA\n",
      "====================\n",
      "DIGITE O 1° TERMO 0\n",
      "digite a razão 2\n",
      "0 2 4 6 8 10 12 14 16 18 "
     ]
    }
   ],
   "source": [
    "print('=='*10)\n",
    "print('10 TERMOS DE UMA PA')\n",
    "print('=='*10)\n",
    "\n",
    "pri= int(input('DIGITE O 1° TERMO '))\n",
    "razao= int(input('digite a razão '))\n",
    "decimo=pri + (10-1)*razao\n",
    "for c in range(pri, decimo+razao,razao):\n",
    "        print(c, end=' ')"
   ]
  },
  {
   "cell_type": "code",
   "execution_count": 11,
   "id": "2f114055",
   "metadata": {},
   "outputs": [
    {
     "name": "stdout",
     "output_type": "stream",
     "text": [
      "Digite um numero 100\n",
      "\u001b[33m 1 \u001b[33m 2 \u001b[31m 3 \u001b[33m 4 \u001b[33m 5 \u001b[31m 6 \u001b[31m 7 \u001b[31m 8 \u001b[31m 9 \u001b[33m 10 \u001b[31m 11 \u001b[31m 12 \u001b[31m 13 \u001b[31m 14 \u001b[31m 15 \u001b[31m 16 \u001b[31m 17 \u001b[31m 18 \u001b[31m 19 \u001b[33m 20 \u001b[31m 21 \u001b[31m 22 \u001b[31m 23 \u001b[31m 24 \u001b[33m 25 \u001b[31m 26 \u001b[31m 27 \u001b[31m 28 \u001b[31m 29 \u001b[31m 30 \u001b[31m 31 \u001b[31m 32 \u001b[31m 33 \u001b[31m 34 \u001b[31m 35 \u001b[31m 36 \u001b[31m 37 \u001b[31m 38 \u001b[31m 39 \u001b[31m 40 \u001b[31m 41 \u001b[31m 42 \u001b[31m 43 \u001b[31m 44 \u001b[31m 45 \u001b[31m 46 \u001b[31m 47 \u001b[31m 48 \u001b[31m 49 \u001b[33m 50 \u001b[31m 51 \u001b[31m 52 \u001b[31m 53 \u001b[31m 54 \u001b[31m 55 \u001b[31m 56 \u001b[31m 57 \u001b[31m 58 \u001b[31m 59 \u001b[31m 60 \u001b[31m 61 \u001b[31m 62 \u001b[31m 63 \u001b[31m 64 \u001b[31m 65 \u001b[31m 66 \u001b[31m 67 \u001b[31m 68 \u001b[31m 69 \u001b[31m 70 \u001b[31m 71 \u001b[31m 72 \u001b[31m 73 \u001b[31m 74 \u001b[31m 75 \u001b[31m 76 \u001b[31m 77 \u001b[31m 78 \u001b[31m 79 \u001b[31m 80 \u001b[31m 81 \u001b[31m 82 \u001b[31m 83 \u001b[31m 84 \u001b[31m 85 \u001b[31m 86 \u001b[31m 87 \u001b[31m 88 \u001b[31m 89 \u001b[31m 90 \u001b[31m 91 \u001b[31m 92 \u001b[31m 93 \u001b[31m 94 \u001b[31m 95 \u001b[31m 96 \u001b[31m 97 \u001b[31m 98 \u001b[31m 99 \u001b[33m 100 \n",
      " o numero 100 foi duvisivel 9 vezes \n",
      "e por isso ele não é primo \n"
     ]
    }
   ],
   "source": [
    "tot=0\n",
    "n=int(input('Digite um numero '))\n",
    "for c in range (1,n+1):\n",
    "    if n%c==0:\n",
    "        print('\\033[33m',end=' ')\n",
    "        tot+=1\n",
    "    else:\n",
    "        print('\\033[31m', end=' ')\n",
    "    print(c, end=' ')\n",
    "print('\\n o numero {} foi duvisivel {} vezes '.format(n,tot))\n",
    "if tot==2:\n",
    "    print('e por isso ele é primo ')\n",
    "else:\n",
    "    print('e por isso ele não é primo ')"
   ]
  },
  {
   "cell_type": "code",
   "execution_count": 6,
   "id": "da1e46d9",
   "metadata": {},
   "outputs": [
    {
     "name": "stdout",
     "output_type": "stream",
     "text": [
      "digite uam frase subi no onibus\n",
      "o INVERSO DE SUBINOONIBUS É SUBINOONIBUS\n",
      "temos um palindromo\n"
     ]
    }
   ],
   "source": [
    "frase=str(input('digite uam frase ')).strip() .upper()\n",
    "separado=frase.split()\n",
    "junto=''.join(separado)\n",
    "inverso=''\n",
    "for letra in range (len(junto)-1,-1,-1):\n",
    "    inverso+=junto[letra]\n",
    "print('o INVERSO DE {} É {}'.format(junto, inverso))\n",
    "if inverso==junto:\n",
    "    print('temos um palindromo')\n",
    "else:\n",
    "    print('não tenos um palindromo')"
   ]
  },
  {
   "cell_type": "code",
   "execution_count": null,
   "id": "f66cade8",
   "metadata": {},
   "outputs": [],
   "source": [
    "from datetime import date\n",
    "for pess in range (1,8):\n",
    "    ano= int(input('em que ano a {}° pessoa nasceu ').format(pess))\n",
    "    atual=date.today().year-ano\n",
    "    print(atual)\n",
    "    "
   ]
  }
 ],
 "metadata": {
  "kernelspec": {
   "display_name": "Python 3 (ipykernel)",
   "language": "python",
   "name": "python3"
  },
  "language_info": {
   "codemirror_mode": {
    "name": "ipython",
    "version": 3
   },
   "file_extension": ".py",
   "mimetype": "text/x-python",
   "name": "python",
   "nbconvert_exporter": "python",
   "pygments_lexer": "ipython3",
   "version": "3.9.13"
  }
 },
 "nbformat": 4,
 "nbformat_minor": 5
}
