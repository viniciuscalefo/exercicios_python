{
 "cells": [
  {
   "cell_type": "code",
   "execution_count": 44,
   "id": "962ea0b3",
   "metadata": {},
   "outputs": [
    {
     "name": "stdout",
     "output_type": "stream",
     "text": [
      "Digite eu nome zeca urubu\n",
      "ZECA URUBU\n",
      "zeca urubu\n",
      " seu nome tem ao todo 9 letras, sem contar os espaços\n",
      "Seu primeiro nome tem 4 letras\n"
     ]
    }
   ],
   "source": [
    "nome=input('Digite eu nome ').strip()\n",
    "vazio= nome.count(' ')\n",
    "todo= len(nome)-vazio\n",
    "separado= nome.split()\n",
    "print(nome.upper())\n",
    "print(nome.lower())\n",
    "print('Seu nome tem ao todo', todo, 'letras, sem contar os espaços')\n",
    "print('Seu primeiro nome tem', len(separado [0]), 'letras')\n"
   ]
  },
  {
   "cell_type": "code",
   "execution_count": null,
   "id": "25782ddb",
   "metadata": {},
   "outputs": [],
   "source": [
    "num=int(input('digite um numero'))\n",
    "n=str(num)\n",
    "print('Analisamdo o numero {}'.format(num))\n",
    "print('Unidade{}'. fomrat(n[3]))\n",
    "prin('dezena{}'.format(n[2]))\n",
    "print('centena {} '.format([1]))\n",
    "print('milhar{}'.format(n[0]))\n"
   ]
  },
  {
   "cell_type": "code",
   "execution_count": 1,
   "id": "b3ae496b",
   "metadata": {},
   "outputs": [
    {
     "name": "stdout",
     "output_type": "stream",
     "text": [
      "Digite a cidade onde vc nasceu SANTO AmRIODAS DOEWS DOPXCJX\n",
      "Você nasceu em uma cidade que começa com Santo\n"
     ]
    }
   ],
   "source": [
    "#fAZER UM PROGRMA QUER MOSTRE SE A CIDAD QUE  pessoa nasceu começa com santo, \n",
    "#idependente do jeito que ela escreva e se deu espaço antges ou depois \n",
    "\n",
    "cidade=str(input('Digite a cidade onde vc nasceu ')). strip()\n",
    "cidade.capitalize()\n",
    "'Santo' in cidade.capitalize()\n",
    "print('Você nasceu em uma cidade que começa com Santo')\n"
   ]
  },
  {
   "cell_type": "code",
   "execution_count": 3,
   "id": "77e80ea9",
   "metadata": {},
   "outputs": [
    {
     "name": "stdout",
     "output_type": "stream",
     "text": [
      "Digite seu nome Joaqui das dores mattos silva e jorge das ciljid\n",
      "Seu nome é Joaqui das dores mattos silva e jorge das ciljid e voce tem Silva em seu nome True ?\n"
     ]
    }
   ],
   "source": [
    "#FAZER UM PROGRMA QUE MOSTRE SE TEM 'SILVA' NO NOME DA PESSOAINDEPENDETE DE SER NO COMEÇO,MEIO OU FINAL  \n",
    "\n",
    "\n",
    "nome=str(input('Digite seu nome ')).strip()\n",
    "\n",
    "c=nome.upper()\n",
    "silva='SILVA' in c\n",
    "\n",
    "print('Seu nome é {} e voce tem Silva em seu nome {} ?' .format(nome,silva))"
   ]
  },
  {
   "cell_type": "code",
   "execution_count": null,
   "id": "371e3138",
   "metadata": {},
   "outputs": [],
   "source": [
    "frase= str(input('digite uma frase ')).strip().lower()\n",
    "print('A letra A aparece {} vezes na frase '. format(frase.cout('a')))\n",
    "print('A primeira letra A aparece na posição {} '.format(frase.find('a')+1))\n",
    "print('A ultima ocorrencia apare an posição {}'.format(frase.rfind('a')+1))"
   ]
  },
  {
   "cell_type": "code",
   "execution_count": null,
   "id": "e21e4f10",
   "metadata": {},
   "outputs": [],
   "source": []
  },
  {
   "cell_type": "code",
   "execution_count": null,
   "id": "7257c84a",
   "metadata": {},
   "outputs": [],
   "source": []
  },
  {
   "cell_type": "code",
   "execution_count": null,
   "id": "3639fe42",
   "metadata": {},
   "outputs": [],
   "source": []
  },
  {
   "cell_type": "code",
   "execution_count": null,
   "id": "48fcb8f8",
   "metadata": {},
   "outputs": [],
   "source": []
  }
 ],
 "metadata": {
  "kernelspec": {
   "display_name": "Python 3 (ipykernel)",
   "language": "python",
   "name": "python3"
  },
  "language_info": {
   "codemirror_mode": {
    "name": "ipython",
    "version": 3
   },
   "file_extension": ".py",
   "mimetype": "text/x-python",
   "name": "python",
   "nbconvert_exporter": "python",
   "pygments_lexer": "ipython3",
   "version": "3.9.13"
  }
 },
 "nbformat": 4,
 "nbformat_minor": 5
}
