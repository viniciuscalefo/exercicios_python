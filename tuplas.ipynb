{
 "cells": [
  {
   "cell_type": "code",
   "execution_count": null,
   "id": "00463568",
   "metadata": {},
   "outputs": [],
   "source": [
    "lanche=('hambueger','suco', 'taco','pizza','jaca', 'uva') #demonstração de uma variavel compostas\n",
    "print(lanche)\n",
    "print(lanche[2]) #Monstrando indexação em tuplas( coemça do 0 )\n",
    "print(lanche[0:3])#Fazendo o sleecing da tupla lanche, mostra de 0-1, pq o ultino e excluído\n",
    "print(lanche[:5])#Mostra do inico até o indice 1 (indice 2 é excluído )\n",
    "print(lanche[::2])#mostra de 2 em dois os elementos "
   ]
  },
  {
   "cell_type": "code",
   "execution_count": null,
   "id": "e0779408",
   "metadata": {},
   "outputs": [],
   "source": [
    "#utilizando for em tuplas\n",
    "lanche=('hambueger','suco', 'taco','pizza','jaca', 'uva')\n",
    "for comida in lanche:\n",
    "    print(f'Vou comer {comida} ')\n",
    "print('Comi pra cacete')\n",
    "\n",
    "#pode usar tbm essa anotação:         for cont in range(0,len(lanche)):]\n",
    "#jeito bom quando precisa enumerar        #print(f'Vou comer {lanche[cont]}')"
   ]
  },
  {
   "cell_type": "code",
   "execution_count": null,
   "id": "129ca4b7",
   "metadata": {},
   "outputs": [],
   "source": [
    "#comando sorted \n",
    "lanche=('hambueger','suco', 'taco','pizza','jaca', 'uva')\n",
    "print(sorted(lanche)) #o sorted ele n altera a tupla, só organiza\n",
    "                      #e olhando a impressão peceba que ele teve que passar para uma lista"
   ]
  },
  {
   "cell_type": "code",
   "execution_count": null,
   "id": "78cc67ce",
   "metadata": {},
   "outputs": [],
   "source": [
    "#concatenação de tuplas \n",
    "a=(1,2,3,4,4,4,5,6) #declarando tupla1 \n",
    "b=(7,8,9,10,11,12,13) #declarandi tupla\n",
    "c=b+a #CONCATENAÇÃO de tuplas\n",
    "d=a+b #CONCATENAÇÃO de tuplas mas em ordem diferente  \n",
    "print(c) #a ordem de soam de tuplas altera o resultado\n",
    "print(d)\n",
    "print(a.count(4)) #usando a função count\n",
    "print(a.index(3))\n",
    "del(b) #deletandoa tupla  b \n",
    "print(b) #erro ao imprimir b pois ela foi deletado "
   ]
  },
  {
   "cell_type": "code",
   "execution_count": null,
   "id": "904a9dc5",
   "metadata": {},
   "outputs": [],
   "source": [
    "\n",
    "extenso=('zero','um','dois','tres','quatro','cinco','seis','sete','oito','nove','dez' )\n",
    "#criando uma tupla com os possíveis valores \n",
    "while True:\n",
    "    usu=int(input('Digite um numero ')) #pegando a unformação digitada pelo usuario \n",
    "    if 0<= usu<=20:\n",
    "        break\n",
    "    print('Tente novamante')\n",
    "print(f'Voce digitou {extenso[usu]}')"
   ]
  },
  {
   "cell_type": "code",
   "execution_count": null,
   "id": "091bc0b5",
   "metadata": {},
   "outputs": [],
   "source": [
    "#TABELA DO BRASILEIRAÃO \n",
    "\n",
    "times=('america','atleticp', ' bahia','bota', 'corin', 'coritiba','cruze','cuiabá'\n",
    "      ,'fla','flu','fortal','pal','braga','san', ' sao paulo','vasco')\n",
    "print('-='*12)\n",
    "print('Lista de times')\n",
    "print('-='*12)\n",
    "print(times)\n",
    "print('-='*12)\n",
    "print(f'Os 5 primeiros são {times[:5]} ') #fatiamento\n",
    "print('-='*12)\n",
    "print(f'Os 4 ultimos são {times [11:]}') #fatiamento \n",
    "print('-='*12)\n",
    "print(f'Times em ordem alfabética{sorted(times)}') #função ára ordenar, mas n está dando certo \n",
    "print('-='*12)\n",
    "print(f' O Flu esta na {times.index(\"flu\")+1}° posição')# metodo index: nome da tupla.index(oq vc quer achar)"
   ]
  },
  {
   "cell_type": "code",
   "execution_count": null,
   "id": "38a0f445",
   "metadata": {},
   "outputs": [],
   "source": [
    "#sortear 5 numeros, mostrar eles, qual o maior e o mneor, tudo com tuplas\n",
    "#EU fiz com lista pq achei melhor\n",
    "from random import randint\n",
    "lista=[]\n",
    "for c in range(0,5):\n",
    "    n=randint(0,10)\n",
    "    #print(n)\n",
    "    lista.append(n)\n",
    "print(lista)\n",
    "print(f' O maior numero foi {max(lista)} ')\n",
    "print(f'O menor numero foi {min(lista)} ')\n"
   ]
  },
  {
   "cell_type": "code",
   "execution_count": 2,
   "id": "93b21a2b",
   "metadata": {},
   "outputs": [
    {
     "ename": "SyntaxError",
     "evalue": "invalid syntax (3564587399.py, line 6)",
     "output_type": "error",
     "traceback": [
      "\u001b[1;36m  File \u001b[1;32m\"C:\\Users\\Alexandre\\AppData\\Local\\Temp\\ipykernel_2044\\3564587399.py\"\u001b[1;36m, line \u001b[1;32m6\u001b[0m\n\u001b[1;33m    print (f'O maior numero foi {max(numeros)} ')\u001b[0m\n\u001b[1;37m    ^\u001b[0m\n\u001b[1;31mSyntaxError\u001b[0m\u001b[1;31m:\u001b[0m invalid syntax\n"
     ]
    }
   ],
   "source": [
    "#O exercicio de cima com tulas fica assim\n",
    "numeros=(randint(1,10),randint(1,10),randint(1,10),randint(1,10),randint(1,10))\n",
    "for n in numeros:\n",
    "    print(f'{n}',end=' '\n",
    "          \n",
    "print(f'O maior numero foi {max(numeros)} ')\n",
    "print(f'O menor numero sorteado foi {min(numeros)} ')"
   ]
  },
  {
   "cell_type": "code",
   "execution_count": 10,
   "id": "699dbe11",
   "metadata": {},
   "outputs": [
    {
     "name": "stdout",
     "output_type": "stream",
     "text": [
      "Digite um valor 78\n",
      "Digite um valor 6\n",
      "Digite um valor 5\n",
      "Digite um valor 6\n",
      "Digite um valor 21\n",
      "9 não foi digitado \n",
      "O numero 3 não foi digitado \n",
      "Foram digitados 3 numeros pares\n"
     ]
    }
   ],
   "source": [
    "p=0 #variael que vai guardar a qtd de numeros pares\n",
    "nums=(int(input('Digite um valor ')),int(input('Digite um valor ')),int(input('Digite um valor ')),\n",
    "     int(input('Digite um valor ')),int(input('Digite um valor '))) #campo para o usuario digitar um valor repetido 4 vezes e \n",
    "#armazendaod os valores dentro de uma tupla \n",
    "\n",
    "if 9 in nums: #condição pra ver se o 9 foi digitado\n",
    "    print(f'O numero 9 aparece {nums.count(9)} vezes')#conto quantas vezes o 9 foi digitado\n",
    "else:\n",
    "    print(f'9 não foi digitado ')\n",
    "if 3 in nums: #condição pra ver se o 3 foi digitado\n",
    "    print(f'O primeiro valor 3 foi digitado na posição {nums.index(3)+1}') #vejo onde teve a ocorencia do numero 3 e acrescento 1, pois começa em 0\n",
    "else:\n",
    "    print('O numero 3 não foi digitado ')\n",
    "for n in nums: #vendo se é par\n",
    "    if n%2==0:\n",
    "        p+=1 #incrmentando o numero par\n",
    "print(f'Foram digitados {p} numeros pares')"
   ]
  },
  {
   "cell_type": "code",
   "execution_count": 39,
   "id": "d40eafa5",
   "metadata": {},
   "outputs": [
    {
     "name": "stdout",
     "output_type": "stream",
     "text": [
      "\n",
      " Na palavra aprender temos a e e \n",
      " Na palavra programar temos o a a \n",
      " Na palavra linguagem temos i u a e \n",
      " Na palavra modular temos o u a \n",
      " Na palavra curso temos u o \n",
      " Na palavra gratis temos a i \n",
      " Na palavra estudar temos e u a "
     ]
    }
   ],
   "source": [
    "tupla= ('aprender', 'programar', 'linguagem', 'modular', 'curso', 'gratis', 'estudar',)\n",
    "for palavras in tupla:\n",
    "    print(f'\\n Na palavra {palavras} temos ', end='')\n",
    "    for letra in palavras:\n",
    "        if letra in 'aeiou':\n",
    "            print(f'{letra}',end=' ')"
   ]
  },
  {
   "cell_type": "code",
   "execution_count": null,
   "id": "8345cede",
   "metadata": {},
   "outputs": [],
   "source": []
  }
 ],
 "metadata": {
  "kernelspec": {
   "display_name": "Python 3 (ipykernel)",
   "language": "python",
   "name": "python3"
  },
  "language_info": {
   "codemirror_mode": {
    "name": "ipython",
    "version": 3
   },
   "file_extension": ".py",
   "mimetype": "text/x-python",
   "name": "python",
   "nbconvert_exporter": "python",
   "pygments_lexer": "ipython3",
   "version": "3.9.13"
  }
 },
 "nbformat": 4,
 "nbformat_minor": 5
}
