{
 "cells": [
  {
   "cell_type": "code",
   "execution_count": null,
   "id": "7bfcd2df",
   "metadata": {},
   "outputs": [],
   "source": [
    "#CONTAR NORMAL\n",
    "for c in range (1,5):\n",
    "    print(c)\n",
    "print('FIM')\n",
    "print('=='*10)\n",
    "#CONTAR PARA TRAS \n",
    "for c in range (6,0,-1):\n",
    "    print(c)\n",
    "print('fim')\n",
    "print('=='*10)\n",
    "#pulando de 2 em 2 \n",
    "for c in range (0,10,2):\n",
    "    print(c)\n",
    "print('fim')"
   ]
  },
  {
   "cell_type": "code",
   "execution_count": null,
   "id": "c955f0ec",
   "metadata": {},
   "outputs": [],
   "source": [
    "#CONTAR PARA TRAS \n",
    "for c in range (6,0,-1):\n",
    "    print(c)\n",
    "print('fim')\n"
   ]
  },
  {
   "cell_type": "markdown",
   "id": "88e650a4",
   "metadata": {},
   "source": [
    "# Exercicios \n"
   ]
  },
  {
   "cell_type": "code",
   "execution_count": null,
   "id": "96f68d10",
   "metadata": {},
   "outputs": [],
   "source": [
    "#CONTAGEM REGRESSIVA PARA FOGOS DE ARTIFICio\n",
    "\n",
    "from time import sleep \n",
    "\n",
    "for c in range (10,-1,-1 ):\n",
    "    print(c)\n",
    "    sleep(0.2)\n",
    "print('BOOM FOGOS ')"
   ]
  },
  {
   "cell_type": "code",
   "execution_count": null,
   "id": "e48ecbe6",
   "metadata": {},
   "outputs": [],
   "source": [
    "for c in range (1,51):\n",
    "    if c%2==0:\n",
    "        print(c, end=' - ')\n",
    "print('FIM')\n",
    "#solução com menor numero de laços \n",
    "for c in range (2,51,2):\n",
    "    print(c, end=' - ')\n",
    "print ('ACABOU')"
   ]
  },
  {
   "cell_type": "code",
   "execution_count": null,
   "id": "b5d54fa2",
   "metadata": {},
   "outputs": [],
   "source": [
    "s=0\n",
    "cont=0\n",
    "for c in range(1,501): #for c in range (1,501,2), para ja pular direto de 2 em 2\n",
    "    if c%2==1 and c%3==0: #condição para ele ser impar e multiplo de 3\n",
    "        s=s+c #s +=c          #toda vez que o laço passa pela condição o valor de 's' é incrementado  \n",
    "        cont=cont+1 #cont +=1\n",
    "print('a soma dos {} valores é {} '.format (cont, s))"
   ]
  },
  {
   "cell_type": "code",
   "execution_count": null,
   "id": "497e98f0",
   "metadata": {},
   "outputs": [],
   "source": [
    "#tabuada V2.0\n",
    "n=int(input('Digite a tabuada de qual numero vc quer '))\n",
    "for c in range(0,11):\n",
    "    print('{} x {} = {} '.format (n,c,(n*c)))\n"
   ]
  },
  {
   "cell_type": "code",
   "execution_count": null,
   "id": "65e0018a",
   "metadata": {},
   "outputs": [],
   "source": [
    "for c in range(0,6):\n",
    "    n=int(input('Digite um numero '))\n",
    "    print(n)"
   ]
  },
  {
   "cell_type": "code",
   "execution_count": null,
   "id": "37d34f85",
   "metadata": {},
   "outputs": [],
   "source": [
    "soma=0\n",
    "for c in range(0,6):\n",
    "    n=int(input('Digite um numero '))\n",
    "    if n%2==0:\n",
    "        soma=soma+n\n",
    "print(f'A soma dos numeros pares é {soma}')"
   ]
  },
  {
   "cell_type": "code",
   "execution_count": null,
   "id": "a50952a7",
   "metadata": {},
   "outputs": [],
   "source": [
    "print('=='*10)\n",
    "print('10 TERMOS DE UMA PA')\n",
    "print('=='*10)\n",
    "\n",
    "pri= int(input('DIGITE O 1° TERMO '))\n",
    "razao= int(input('digite a razão '))\n",
    "decimo=pri + (10-1)*razao\n",
    "for c in range(pri, decimo+razao,razao):\n",
    "        print(c, end=' ')"
   ]
  },
  {
   "cell_type": "code",
   "execution_count": null,
   "id": "2f114055",
   "metadata": {},
   "outputs": [],
   "source": [
    "tot=0\n",
    "n=int(input('Digite um numero '))\n",
    "for c in range (1,n+1):\n",
    "    if n%c==0:\n",
    "        print('\\033[33m',end=' ')\n",
    "        tot+=1\n",
    "    else:\n",
    "        print('\\033[31m', end=' ')\n",
    "    print(c, end=' ')\n",
    "print('\\n o numero {} foi duvisivel {} vezes '.format(n,tot))\n",
    "if tot==2:\n",
    "    print('e por isso ele é primo ')\n",
    "else:\n",
    "    print('e por isso ele não é primo ')"
   ]
  },
  {
   "cell_type": "code",
   "execution_count": null,
   "id": "da1e46d9",
   "metadata": {},
   "outputs": [],
   "source": [
    "frase=str(input('digite uam frase ')).strip() .upper()\n",
    "separado=frase.split()\n",
    "junto=''.join(separado)\n",
    "inverso=''\n",
    "for letra in range (len(junto)-1,-1,-1):\n",
    "    inverso+=junto[letra]\n",
    "print('o INVERSO DE {} É {}'.format(junto, inverso))\n",
    "if inverso==junto:\n",
    "    print('temos um palindromo')\n",
    "else:\n",
    "    print('não tenos um palindromo')"
   ]
  },
  {
   "cell_type": "code",
   "execution_count": null,
   "id": "f66cade8",
   "metadata": {},
   "outputs": [],
   "source": [
    "from datetime import date\n",
    "menor=0\n",
    "maior=0\n",
    "for pess in range (1,8):\n",
    "    ano= int(input('em que ano a {}° pessoa nasceu '.format(pess)))\n",
    "    atual=date.today().year-ano\n",
    "    if atual>17:\n",
    "        maior+=1\n",
    "        #print('maior de idade')\n",
    "    else:\n",
    "        menor+=1\n",
    "        #print('menor de idade ')\n",
    "print('das {} pessoas {} são menores de idade e {} são maiores'.format(pess,menor,maior))\n",
    "    "
   ]
  },
  {
   "cell_type": "code",
   "execution_count": 4,
   "id": "70e838a6",
   "metadata": {},
   "outputs": [
    {
     "name": "stdout",
     "output_type": "stream",
     "text": [
      "Qaual o peso da 1° pessoa 458\n",
      "Qaual o peso da 2° pessoa 698\n",
      "Qaual o peso da 3° pessoa 45\n",
      "Qaual o peso da 4° pessoa 64\n",
      "Qaual o peso da 5° pessoa 10\n",
      "Dentre os pesos citados o maior peso foi 698.0 kg e o menor foi 10.0 \n"
     ]
    }
   ],
   "source": [
    "#ler os 5 pesos e mostrar qual é o maior \n",
    "\n",
    "pesos=[]\n",
    "for peso in range(1,6):\n",
    "    pess=float(input(f'Qaual o peso da {peso}° pessoa '))\n",
    "    pesos.append(pess)\n",
    "print('\\n Dentre os pesos citados o maior peso foi {} kg e o menor foi {} '.format(max(pesos),min(pesos)))\n",
    "#tentar fazer a media e mediana na lsita e n ~deixar um numero fixo no range"
   ]
  },
  {
   "cell_type": "code",
   "execution_count": 2,
   "id": "5e4047ec",
   "metadata": {},
   "outputs": [
    {
     "name": "stdout",
     "output_type": "stream",
     "text": [
      "1° pessoa \n",
      "Qual seu nome jose\n",
      "Qual sua idade 45\n",
      "Qual seu sexo [M/F] m\n"
     ]
    },
    {
     "ename": "TypeError",
     "evalue": "'builtin_function_or_method' object is not iterable",
     "output_type": "error",
     "traceback": [
      "\u001b[1;31m---------------------------------------------------------------------------\u001b[0m",
      "\u001b[1;31mTypeError\u001b[0m                                 Traceback (most recent call last)",
      "\u001b[1;32m~\\AppData\\Local\\Temp\\ipykernel_7648\\3928063792.py\u001b[0m in \u001b[0;36m<module>\u001b[1;34m\u001b[0m\n\u001b[0;32m     16\u001b[0m         \u001b[0midade_m\u001b[0m\u001b[1;33m.\u001b[0m\u001b[0mappend\u001b[0m\u001b[1;33m(\u001b[0m\u001b[0midade\u001b[0m\u001b[1;33m)\u001b[0m\u001b[1;33m\u001b[0m\u001b[1;33m\u001b[0m\u001b[0m\n\u001b[0;32m     17\u001b[0m         \u001b[0mnome_m\u001b[0m\u001b[1;33m.\u001b[0m\u001b[0mappend\u001b[0m\u001b[1;33m(\u001b[0m\u001b[0mnome\u001b[0m\u001b[1;33m)\u001b[0m\u001b[1;33m\u001b[0m\u001b[1;33m\u001b[0m\u001b[0m\n\u001b[1;32m---> 18\u001b[1;33m         \u001b[0mvelho\u001b[0m\u001b[1;33m=\u001b[0m \u001b[0mmax\u001b[0m\u001b[1;33m(\u001b[0m\u001b[0midade_m\u001b[0m\u001b[1;33m.\u001b[0m\u001b[0mindex\u001b[0m\u001b[1;33m)\u001b[0m\u001b[1;33m\u001b[0m\u001b[1;33m\u001b[0m\u001b[0m\n\u001b[0m\u001b[0;32m     19\u001b[0m \u001b[1;31m# não sonsegui bolar um jeito de mostrar o nome dos mais velho, um jeito\u001b[0m\u001b[1;33m\u001b[0m\u001b[1;33m\u001b[0m\u001b[0m\n\u001b[0;32m     20\u001b[0m \u001b[1;31m#seria adicionar os valores em dicionarios,mas ainda n consigo pensar em um jeito de fazer isso\u001b[0m\u001b[1;33m\u001b[0m\u001b[1;33m\u001b[0m\u001b[0m\n",
      "\u001b[1;31mTypeError\u001b[0m: 'builtin_function_or_method' object is not iterable"
     ]
    }
   ],
   "source": [
    "cm=0\n",
    "idades=[]\n",
    "idade_m=[]\n",
    "nome_m=[]\n",
    "for c in range(1,5):\n",
    "    print('{}° pessoa '.format(c))\n",
    "    nome=str(input('Qual seu nome '))\n",
    "    idade=int(input('Qual sua idade '))\n",
    "    sexo= str(input('Qual seu sexo [M/F] ' )).upper()\n",
    "    \n",
    "    idades.append(idade) #adicionado as idades a uma lista para depois fazer a media \n",
    "    \n",
    "    if sexo=='F' and idade<20:\n",
    "        cm=cm+1\n",
    "    if sexo=='M':\n",
    "        idade_m.append(idade)\n",
    "        nome_m.append(nome)\n",
    "# não sonsegui bolar um jeito de mostrar o nome dos mais velho, um jeito\n",
    "#seria adicionar os valores em dicionarios,mas ainda n consigo pensar em um jeito de fazer isso\n",
    "print('a media das de idade das pessoas é {} '.format(sum(idades)/len(idades)))#somando todas as idades e dividindo pelo tamanho da lista p ter a media \n",
    "print('ao todo tem {} mulheres com menos de 20 anos '.format(cm))\n",
    "print('o homem mais velho tem {} anos '.format(max(idade_m)))\n",
    "    "
   ]
  },
  {
   "cell_type": "code",
   "execution_count": null,
   "id": "f281c603",
   "metadata": {},
   "outputs": [],
   "source": []
  }
 ],
 "metadata": {
  "kernelspec": {
   "display_name": "Python 3 (ipykernel)",
   "language": "python",
   "name": "python3"
  },
  "language_info": {
   "codemirror_mode": {
    "name": "ipython",
    "version": 3
   },
   "file_extension": ".py",
   "mimetype": "text/x-python",
   "name": "python",
   "nbconvert_exporter": "python",
   "pygments_lexer": "ipython3",
   "version": "3.9.13"
  }
 },
 "nbformat": 4,
 "nbformat_minor": 5
}
