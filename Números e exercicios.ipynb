{
 "cells": [
  {
   "cell_type": "code",
   "execution_count": null,
   "id": "88242fd3",
   "metadata": {},
   "outputs": [],
   "source": [
    "#SOMA\n",
    "4+3"
   ]
  },
  {
   "cell_type": "code",
   "execution_count": null,
   "id": "77a25e21",
   "metadata": {},
   "outputs": [],
   "source": [
    "#SUBTRAÇÃO\n",
    "78-9\n"
   ]
  },
  {
   "cell_type": "code",
   "execution_count": null,
   "id": "4a682d91",
   "metadata": {},
   "outputs": [],
   "source": [
    "#DIVISÃO \n",
    "45/10"
   ]
  },
  {
   "cell_type": "code",
   "execution_count": null,
   "id": "bd5db454",
   "metadata": {},
   "outputs": [],
   "source": [
    "#MULTIPLICAÇÃO\n",
    "\n",
    "4*9"
   ]
  },
  {
   "cell_type": "code",
   "execution_count": null,
   "id": "94a822f8",
   "metadata": {},
   "outputs": [],
   "source": [
    "#EXPONENCIAÇÃO\n",
    "\n",
    "2**3"
   ]
  },
  {
   "cell_type": "code",
   "execution_count": null,
   "id": "a4401c84",
   "metadata": {},
   "outputs": [],
   "source": [
    "#MÓDULO (RESTO DA DIVISÃO)\n",
    "10%4"
   ]
  },
  {
   "cell_type": "markdown",
   "id": "0e458251",
   "metadata": {},
   "source": [
    "# Função Type\n"
   ]
  },
  {
   "cell_type": "code",
   "execution_count": null,
   "id": "6394fd75",
   "metadata": {},
   "outputs": [],
   "source": [
    "type(5)"
   ]
  },
  {
   "cell_type": "code",
   "execution_count": null,
   "id": "91fb1dc4",
   "metadata": {},
   "outputs": [],
   "source": [
    "type(5.0)\n"
   ]
  },
  {
   "cell_type": "code",
   "execution_count": null,
   "id": "45d142a7",
   "metadata": {},
   "outputs": [],
   "source": [
    "a='Estou com sono'\n",
    "type(a)"
   ]
  },
  {
   "cell_type": "markdown",
   "id": "fc91eb98",
   "metadata": {},
   "source": [
    "66+(13.7 * PESO) + 5* ALTURA +  6.8* IDADE"
   ]
  },
  {
   "cell_type": "code",
   "execution_count": null,
   "id": "5fea8609",
   "metadata": {},
   "outputs": [],
   "source": [
    "peso= float(input(\"Digite seu peso \"))\n",
    "peso1= peso*13.7\n",
    "\n",
    "altura= float(input(\" Digite sua altura em centímetros \"))\n",
    "altura1= altura*5\n",
    "\n",
    "idade= int(input(\"Digite sua idade \"))\n",
    "idade1=idade*6.8\n",
    "\n",
    "basal= 66+ peso1 + altura1 + idade1\n",
    "\n",
    "print(\" Seu gasto basal é de  {:.2f} calorias \" .format(basal))"
   ]
  },
  {
   "cell_type": "code",
   "execution_count": null,
   "id": "892079b1",
   "metadata": {},
   "outputs": [],
   "source": [
    "+100+100 * (15/100)"
   ]
  },
  {
   "cell_type": "code",
   "execution_count": 6,
   "id": "2f99e012",
   "metadata": {},
   "outputs": [
    {
     "name": "stdout",
     "output_type": "stream",
     "text": [
      "Qual seu salario 1000\n",
      "Quanto foi seu aumento ? 200\n",
      "Seu novo salario com o aumento de 200.0% é de 3000.00 \n"
     ]
    }
   ],
   "source": [
    "#AUMENTO DE SALARIO COM UMA DETERMINADA PORCENTAGEM \n",
    "salario= float(input(\"Qual seu salario \"))\n",
    "aumento= float(input(\"Quanto foi seu aumento ? \"))\n",
    "salario1= salario *(aumento/100)\n",
    "salariof= salario+salario1\n",
    "print(\"Seu novo salario com o aumento de {}% é de {:.2f} \". format(aumento,salariof))"
   ]
  },
  {
   "cell_type": "code",
   "execution_count": null,
   "id": "f69753af",
   "metadata": {},
   "outputs": [],
   "source": [
    "#CONVERSOR DE MEDIDAS M -> KM,DCM,MM,CM...\n",
    "print(\"conversor \")\n",
    "medida=float(input(\"DIGITE UMA MEDIDA\"))\n",
    "\n",
    "print(\" A medida de {}m corresponde a  \\n \"\n",
    "      \" {} km\\n\" \n",
    "      \" {} hm\\n \"\n",
    "      \" {} dam\\n \"\n",
    "      \" {} dm\\n \"\n",
    "      \" {} cm\\n \"\n",
    "      \" {}mm\\n  \".format(medida, medida/1000, medida/100, medida/10, medida/0.1 , medida/0.01, medida/0.001))\n",
    "      \n",
    "     \n"
   ]
  },
  {
   "cell_type": "code",
   "execution_count": null,
   "id": "b1a403a1",
   "metadata": {},
   "outputs": [],
   "source": [
    "#FAZER UMA TABUADA ALINHADA \n",
    "\n",
    "num= int(input(\"Digite um número para ver sua tabuada\"))\n",
    "print(\"-\"*12)\n",
    "print(\"{} x {:2} = {} \" .format(num, 1, num*1))\n",
    "print(\"{} x {:2} = {} \" .format(num, 2, num*2))\n",
    "print(\"{} x {:2} = {} \" .format(num, 3, num*3))\n",
    "print(\"{} x {:2} = {} \" .format(num, 4, num*4))\n",
    "print(\"{} x {:2} = {} \" .format(num, 5, num*5))\n",
    "print(\"{} x {:2} = {} \" .format(num, 6, num*6))\n",
    "print(\"{} x {:2} = {} \" .format(num, 7, num*7))\n",
    "print(\"{} x {:2} = {} \" .format(num, 8, num*8))\n",
    "print(\"{} x {:2} = {} \" .format(num, 9, num*9))\n",
    "print(\"{} x {:2} = {} \" .format(num, 10, num*10))\n",
    "print(\"-\"*12)"
   ]
  },
  {
   "cell_type": "code",
   "execution_count": 41,
   "id": "93251f98",
   "metadata": {},
   "outputs": [
    {
     "name": "stdout",
     "output_type": "stream",
     "text": [
      "Informe quanro reais vc tem 7000\n",
      "Com 7000.0 reais voce pode ocmprar 1346.15 dolares\n"
     ]
    }
   ],
   "source": [
    "#QUANTOS DOLARES EM CONSIGO COMPRAAR COM TANTOS REIAS \n",
    "\n",
    "reais= float(input(\"Informe quanro reais vc tem \"))\n",
    "dolar= reais/5.20\n",
    "\n",
    "print(\"Com {} reais voce pode ocmprar {:.2f} dolares\".format(reais, dolar))"
   ]
  },
  {
   "cell_type": "code",
   "execution_count": 38,
   "id": "fe3d669d",
   "metadata": {},
   "outputs": [
    {
     "name": "stdout",
     "output_type": "stream",
     "text": [
      "quala a largura da sua parede2.5\n",
      "Qual a altura da sua parede1.75\n",
      " sua parede tem 4.375 m² de área e vc precisará de 2.1875l te tinta para fazer isso\n"
     ]
    }
   ],
   "source": [
    "#CSLCULO DO AREA DE UMA OAREDE E QUANTOS LITROS DE TINTA EU PRECISO P PINTAR A PAREDE, SABENDO QUE CADA L DE TINTA COBRE 2m²\n",
    "\n",
    "largura=float(input(\"quala a largura da sua parede \"))\n",
    "altura= float(input(\"Qual a altura da sua parede \"))\n",
    "area=largura*altura\n",
    "\n",
    "print(\" sua parede tem {} m² de área e vc precisará de {}L te tinta para fazer isso\".format(area, area/2) )"
   ]
  },
  {
   "cell_type": "code",
   "execution_count": 45,
   "id": "a3e56baf",
   "metadata": {},
   "outputs": [
    {
     "name": "stdout",
     "output_type": "stream",
     "text": [
      "Qual o preço do produto200\n",
      "o novo preço é com desconto de 5% é 190.0 reais \n"
     ]
    }
   ],
   "source": [
    "#CALCULA O PREÇO DE UM PRODUTO APÓS UM DESCONTO DE 5%\n",
    "\n",
    "preco=float(input(\"Qual o preço do produto \"))\n",
    "desc= preco*(5/100)\n",
    "print(\"o novo preço é com desconto de 5% é {} reais \" .format(preco-desc))"
   ]
  },
  {
   "cell_type": "code",
   "execution_count": 5,
   "id": "f5a63f29",
   "metadata": {},
   "outputs": [
    {
     "name": "stdout",
     "output_type": "stream",
     "text": [
      "Qual seu salario ? R$: 3500\n",
      "Com um aumento de 15% seu novo sálario é 4025.00\n"
     ]
    }
   ],
   "source": [
    "#CALCULAR UM SALARIO APÓS UM AUMENTOD E 15%\n",
    "\n",
    "salario=float(input(\"Qual seu salario ? R$: \"))\n",
    "aumento= salario+ (salario*15/100)\n",
    "print(\"Com um aumento de 15% seu novo sálario é {:.2f}\".format (aumento))"
   ]
  },
  {
   "cell_type": "code",
   "execution_count": 10,
   "id": "31ab7500",
   "metadata": {},
   "outputs": [
    {
     "name": "stdout",
     "output_type": "stream",
     "text": [
      "Qauntos km vc rodou ? 350\n",
      "quantos dias vc ficou com o carro ? 3\n",
      "por ter andado 350.0km e ter usado o carro por 3 dias  vc tem que pagar R$ 232.50 \n"
     ]
    }
   ],
   "source": [
    "# alugel de carro\n",
    "\n",
    "km=float(input(\"Qauntos km vc rodou ? \"))\n",
    "dias= int(input('quantos dias vc ficou com o carro ? '))\n",
    "\n",
    "total= (km*0.15)+ (dias*60)\n",
    "\n",
    "print('por ter andado {}km e ter usado o carro por {} dias  vc tem que pagar R$ {:.2f} '.format(km,dias, total))"
   ]
  },
  {
   "cell_type": "code",
   "execution_count": 7,
   "id": "a87f8f85",
   "metadata": {},
   "outputs": [
    {
     "name": "stdout",
     "output_type": "stream",
     "text": [
      "digite um numero84\n",
      " a raiz de 84 é 9 \n"
     ]
    }
   ],
   "source": [
    "#impoertnado pacotes \n",
    "\n",
    "import math #importa TODAS as funções da biblioteca MATH\n",
    "n=int(input('digite um numero'))\n",
    "raiz=math.sqrt(n)\n",
    "\n",
    "print(' a raiz de {} é {} '.format(n,math.floor(raiz)))\n",
    "\n",
    "\n",
    "from math import sqrt,pow #importa APENAS as funcionalidade \"SQRT\" \"POW\" as funções da biblioteca MATH"
   ]
  },
  {
   "cell_type": "code",
   "execution_count": 13,
   "id": "f4403fe3",
   "metadata": {},
   "outputs": [
    {
     "name": "stdout",
     "output_type": "stream",
     "text": [
      "digite um número10.697845\n",
      "o numero dogotado fpo 10.697845 e sua porção inteira é 10 \n"
     ]
    }
   ],
   "source": [
    "#USANADO A FUNÇÃO TRUNCAR DA BIBLIOTECA MATH PARA MOSTART A PARTE INETIRA DE UM NÚMERO COM N CASAS DECIMAIS\n",
    "\n",
    "n=float(input('digite um número'))\n",
    "nt= math.trunc(n)\n",
    "print('o numero dogotado fpo {} e sua porção inteira é {} '.format(n,nt))"
   ]
  },
  {
   "cell_type": "markdown",
   "id": "db182a94",
   "metadata": {},
   "source": [
    "Se eu usar o \"from math import...\" vc precisa referenciar no programa .\n",
    "\n",
    "de *math.sin* passa a ser so *sin*. agora se usar o o metodo import 'biblioteca' precisa referncial todos os metodos com o \n",
    "nome da biblioteca seguido de ponto e a funcionalidd que vc quer ( math.sqrt())"
   ]
  },
  {
   "cell_type": "code",
   "execution_count": 11,
   "id": "f3c34118",
   "metadata": {},
   "outputs": [
    {
     "ename": "SyntaxError",
     "evalue": "invalid syntax (2024667355.py, line 4)",
     "output_type": "error",
     "traceback": [
      "\u001b[1;36m  File \u001b[1;32m\"C:\\Users\\Alexandre\\AppData\\Local\\Temp\\ipykernel_7836\\2024667355.py\"\u001b[1;36m, line \u001b[1;32m4\u001b[0m\n\u001b[1;33m    sen=math.sin(.radians(ang))\u001b[0m\n\u001b[1;37m                 ^\u001b[0m\n\u001b[1;31mSyntaxError\u001b[0m\u001b[1;31m:\u001b[0m invalid syntax\n"
     ]
    }
   ],
   "source": [
    "#CALCULANDO SENO COSSENO E TANGENTE DE UM ANGULO QQR \n",
    "\n",
    "import math\n",
    "\n",
    "ang=float(input('Digite o angulo desejado '))\n",
    "sen=math.sin(math.radians(ang)) #AS FUNÇÕES SENO COSSENO E TG FUNCIONAM COM ANGULOS EM RADIANOS, por isso precisa converter antes de fazer  conta\n",
    "cos=math.cos(math.radians(ang))\n",
    "tg=math.tan(math.radians(ang))\n",
    "\n",
    "#print('o angulo de {} tem seno de {} cosseno de {} e tangente de {}',format(ang,sen,cos,tg))\n",
    "print('o angulo foi {} e seu seno é {:.2f} e cosseno {:.2f} e tanente de {:.2f}'. format(ang,sen,cos,tg))\n"
   ]
  },
  {
   "cell_type": "code",
   "execution_count": 17,
   "id": "cf77cf6d",
   "metadata": {},
   "outputs": [
    {
     "name": "stdout",
     "output_type": "stream",
     "text": [
      "qual o nome do primeiro aluno ? a\n",
      "qual o nome do segundo aluno ? b\n",
      " qual o nime do tercceiro aluo ?c\n",
      "o aluno escolhifo foi c\n"
     ]
    }
   ],
   "source": [
    "#ESCOLHENDO UM ALUNO ALETORIO PARA FaZER ALGO \n",
    "#formato certo de fazer \n",
    "import random\n",
    "n1=input('qual o nome do primeiro aluno ? ')\n",
    "n2=input('qual o nome do segundo aluno ? ')\n",
    "n3=input(' qual o nime do tercceiro aluo ? ')\n",
    "lista= [n1,n2,n3]\n",
    "escolhido=random.choice(lista)\n",
    "print('o aluno escolhifo foi {}'.format(escolhido))\n"
   ]
  },
  {
   "cell_type": "markdown",
   "id": "0d4f54d0",
   "metadata": {},
   "source": [
    "#-jeito gambiarra\n",
    "from random import randint\n",
    "\n",
    "nome=randint(1,6)\n",
    "if (nome==1):\n",
    "    print('A')\n",
    "    \n",
    "if (nome==2):\n",
    "    print('B')\n",
    "\n",
    "if (nome==3):\n",
    "    print('C')\n",
    "    \n",
    "if (nome==4):\n",
    "    print('D')\n",
    "    \n",
    "if (nome==5):\n",
    "    print('E')\n",
    "\n",
    "if (nome==6):\n",
    "    print('F')"
   ]
  },
  {
   "cell_type": "code",
   "execution_count": 21,
   "id": "79d2b351",
   "metadata": {},
   "outputs": [
    {
     "name": "stdout",
     "output_type": "stream",
     "text": [
      "nome do primeiro aluno a\n",
      "nome do segundo aluno b\n",
      "nome do tericeiro aluno c\n",
      " a ordem esocolhifa foi\n",
      "['a', 'b', 'd']\n"
     ]
    }
   ],
   "source": [
    "from random import shuffle\n",
    "n1=input('nome do primeiro aluno ')\n",
    "n2=input('nome do segundo aluno ')\n",
    "n3=input ('nome do tericeiro aluno ')\n",
    "\n",
    "lita=[n1,n2,n3]\n",
    "shuffle(lista)\n",
    "print(' a ordem esocolhifa foi')\n",
    "print(lista)"
   ]
  },
  {
   "cell_type": "code",
   "execution_count": null,
   "id": "b9a1166e",
   "metadata": {},
   "outputs": [],
   "source": []
  }
 ],
 "metadata": {
  "kernelspec": {
   "display_name": "Python 3 (ipykernel)",
   "language": "python",
   "name": "python3"
  },
  "language_info": {
   "codemirror_mode": {
    "name": "ipython",
    "version": 3
   },
   "file_extension": ".py",
   "mimetype": "text/x-python",
   "name": "python",
   "nbconvert_exporter": "python",
   "pygments_lexer": "ipython3",
   "version": "3.9.13"
  }
 },
 "nbformat": 4,
 "nbformat_minor": 5
}
