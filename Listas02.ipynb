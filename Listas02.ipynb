{
 "cells": [
  {
   "cell_type": "markdown",
   "metadata": {},
   "source": [
    "# Exercícios\n",
    "\n",
    "## 1. Mudança de Carga Tributária\n",
    "\n",
    "- Reformas e mudanças de cargas tributárias são bem comuns no Brasil.\n",
    "\n",
    "Digamos que você trabalhe em uma empresa de ecommerce\n",
    "\n",
    "No Brasil, o imposto sobre livros é zerado. De um ano para o outro, o governo criou um novo imposto que incide em 10% sobre o valor dos livros e agora você precisa alterar o registro dos preços dos livros da empresa para garantir que esse imposto vai ser repassado para o preço final do produto.\n",
    "\n",
    "Crie um código que recalcule o valor do livro da sua lista de produtos e ajuste na tabela.\n",
    "\n",
    "Além disso, calcule qual vai ser o impacto financeiro da criação desse imposto para a empresa (ou seja, quanto que o imposto vai aumentar de custo para a empresa)\n",
    "\n",
    "Obs: para facilitar, colocamos apenas 1 livro na lista, mas em breve vamos aprender um for que vai adaptar esse cenário para qualquer quantidade de livros na sua lista.\n",
    "\n",
    "Obs2: Seu código deve funcionar mesmo que não haja livros na lista de produtos da empresa"
   ]
  },
  {
   "cell_type": "code",
   "execution_count": 19,
   "metadata": {},
   "outputs": [
    {
     "name": "stdout",
     "output_type": "stream",
     "text": [
      "com a reforma tributária os livros que antes custavam 40 \n",
      "agora passarão a custar 44.0 devido a uma aumento de 10% \n",
      " O aumeto indica que uma perda de 2.3552082218177928% nos custos da impresa \n",
      "o custo total da impresa é 93410000 e com o reajuste os livros passaram a custar 2200000.0 reais\n"
     ]
    }
   ],
   "source": [
    "produtos = ['computador', 'livro', 'tablet', 'celular', 'tv', 'ar condicionado', 'alexa', 'máquina de café', 'kindle']\n",
    "\n",
    "#cada item da lista dos produtos corresponde a quantidade de vendas no mês e preço, nessa ordem\n",
    "produtos_ecommerce = [\n",
    "    [10000, 2500],\n",
    "    [50000, 40],\n",
    "    [7000, 1200],\n",
    "    [20000, 1500],\n",
    "    [5800, 1300],\n",
    "    [7200, 2500],\n",
    "    [200, 800],\n",
    "    [3300, 700],\n",
    "    [1900, 400]\n",
    "]\n",
    "c=0 #atribuindo variaveis valor nulo para serem usads depois\n",
    "custo=0\n",
    "custo_total=0\n",
    "for c in range(0,8): #laço de repetição de 0a 8 com o contador 'c'\n",
    "    custo=produtos_ecommerce[c][0]*produtos_ecommerce[c][1] #multiplicando o indice 0 por indice 1 e varia em cada passada devido ao 'c'\n",
    "    custo_total+=custo #incrementando a variavel custo toal em cada passada\n",
    "reajuste=produtos_ecommerce[1][0]*(produtos_ecommerce[1][1]*1.1)\n",
    "impacto=reajuste/custo_total #calculando a porcentagem que o reajusate impacta no total empresa\n",
    "\n",
    "#pegando especificamnste o valor dos livros e ja mostrando o valor com reajusate \n",
    "print(f'''com a reforma tributária os livros que antes custavam {produtos_ecommerce[1][1]} \n",
    "agora passarão a custar {produtos_ecommerce[1][1]*1.1} devido a uma aumento de 10% ''')x\n",
    "print(f''' O aumeto indica que uma perda de {impacto*100}% nos custos da impresa \n",
    "o custo total da impresa é {custo_total} e com o reajuste os livros passaram a custar {reajuste} reais''')\n"
   ]
  },
  {
   "cell_type": "code",
   "execution_count": null,
   "metadata": {},
   "outputs": [],
   "source": []
  }
 ],
 "metadata": {
  "kernelspec": {
   "display_name": "Python 3 (ipykernel)",
   "language": "python",
   "name": "python3"
  },
  "language_info": {
   "codemirror_mode": {
    "name": "ipython",
    "version": 3
   },
   "file_extension": ".py",
   "mimetype": "text/x-python",
   "name": "python",
   "nbconvert_exporter": "python",
   "pygments_lexer": "ipython3",
   "version": "3.9.13"
  }
 },
 "nbformat": 4,
 "nbformat_minor": 4
}
