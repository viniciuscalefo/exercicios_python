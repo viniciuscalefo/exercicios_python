{
 "cells": [
  {
   "cell_type": "code",
   "execution_count": null,
   "id": "b6374634",
   "metadata": {},
   "outputs": [],
   "source": [
    "c=0\n",
    "soma=0\n",
    "while True:\n",
    "    n=int(input('Digite um numero (digite 999 para parar) '))\n",
    "    if n==999:\n",
    "        break\n",
    "    soma+=n\n",
    "    c+=1\n",
    "print(f'A soam dos {c} valores  é {soma} ')"
   ]
  },
  {
   "cell_type": "code",
   "execution_count": 1,
   "id": "b864d7da",
   "metadata": {},
   "outputs": [
    {
     "name": "stdout",
     "output_type": "stream",
     "text": [
      "Tabuada automatica, para parar digite um numero negativo\n",
      "Quer ver a tabuada de qual valor 54\n",
      "54 x 1= 54\n",
      "54 x 2= 108\n",
      "54 x 3= 162\n",
      "54 x 4= 216\n",
      "54 x 5= 270\n",
      "54 x 6= 324\n",
      "54 x 7= 378\n",
      "54 x 8= 432\n",
      "54 x 9= 486\n",
      "54 x 10= 540\n",
      "Quer ver a tabuada de qual valor 58\n",
      "58 x 1= 58\n",
      "58 x 2= 116\n",
      "58 x 3= 174\n",
      "58 x 4= 232\n",
      "58 x 5= 290\n",
      "58 x 6= 348\n",
      "58 x 7= 406\n",
      "58 x 8= 464\n",
      "58 x 9= 522\n",
      "58 x 10= 580\n",
      "Quer ver a tabuada de qual valor -2\n",
      "acabou\n"
     ]
    }
   ],
   "source": [
    "#Tabuada automatica que tem o flag quando o numero é negativo \n",
    "\n",
    "print('Tabuada automatica, para parar digite um numero negativo')\n",
    "while True: #fazendo um loop infinito \n",
    "    tabu=int(input('Quer ver a tabuada de qual valor ')) #usuaio digota o valor da tabuada \n",
    "    if tabu<0: #condição do flag\n",
    "        break #flag\n",
    "    #tabuada(tabu) usando um função para substituir a parte de baixo do for \n",
    "    for c in range(1,11): #metodo classico para fazer a tabuda\n",
    "        print(f'{tabu} x {c}= {tabu*c}') #print da tabauida \n",
    "print('acabou')\n",
    "\n",
    "#def tabuada(tabu):\n",
    "   # for c in range (1,11):\n",
    "       # print(f'{tabu} x {c} = {tabu*c}')"
   ]
  },
  {
   "cell_type": "code",
   "execution_count": null,
   "id": "11814fe4",
   "metadata": {},
   "outputs": [],
   "source": [
    "#def tabuada(tabu):\n",
    "   # for c in range (1,11):\n",
    "       # print(f'{tabu} x {c} = {tabu*c}')\n",
    "tabuada(8)"
   ]
  },
  {
   "cell_type": "code",
   "execution_count": 3,
   "id": "b168bdf1",
   "metadata": {},
   "outputs": [
    {
     "name": "stdout",
     "output_type": "stream",
     "text": [
      "-=-=-=-=-=-=-=-=-=-=-=-=\n",
      "VAMOS JOGAR PAR OU IMPAR \n",
      "-=-=-=-=-=-=-=-=-=-=-=-=\n",
      "Digite uma valor 8\n",
      "Escolha [P/I] p\n",
      "JOGADOR VENCEU \n",
      "jogador 8  computador 6  total 14 \n",
      "Digite uma valor 6\n",
      "Escolha [P/I] i\n",
      "jogador 6  computador 10  total 16 \n",
      "acabou vc venceu 1 vezes seguidas \n"
     ]
    }
   ],
   "source": [
    "#jogar par e impar com computdor, se o jogador gnhar o jogo continua, caso contrario ele perde e o programa encerra\n",
    "#e mostra quantas vezes ele ganhou \n",
    "\n",
    "from random import randint  #importando o rand int da biblioteca random \n",
    "print('-='*12) #fazendo firulinha \n",
    "print('VAMOS JOGAR PAR OU IMPAR ')\n",
    "print('-='*12)\n",
    "#a=0 so usei um contador para ir testando o programa, para ter um numero maxino de vezes p jogar e tstas as possibilidades\n",
    "vitoria=0 #contador para acumular a sequencia de vitorias \n",
    "while True: #formando um cilco infinito \n",
    "    jogador=int(input('Digite uma valor ')) #jogador coloca o valor que quiser \n",
    "    pi=str(input('Escolha [P/I] ')).strip().upper() #jogador escolhe par ou impat e o dado é tratado p maiusculoe e sem espaços \n",
    "    computador=randint(1,11) #compuador joga de 1-10 (quantidade de dedos na mão )\n",
    "    \n",
    "    total=jogador+computador #calculando o total\n",
    "    if total%2==0 and pi=='P': #condiconal para se o jogador escolher par e o resto da divisão por 2 der 0 ent quer dizer que ele venceu\n",
    "        vitoria+=1 #incrementyando 1 ponto a vitoria \n",
    "        print('JOGADOR VENCEU ')\n",
    "        \n",
    "    elif total%2==0 and pi=='I': #se o resto por 2 der 0 e jogador escolher impar ele perde \n",
    "        break     #flag de parada para o jogo acabar \n",
    "        \n",
    "    elif total%2==1 and pi=='I': #memso raciocionio dos de cima \n",
    "        vitoria+=1\n",
    "        print('JOGADOR VENCEU ')\n",
    "        \n",
    "    elif total%2==1 and pi=='P': #memso raciocionio dos de cima  \n",
    "        break\n",
    "    print(f'jogador {jogador}  computador {computador}  total {total} ')\n",
    "    ##pritn dentro do laço p mosytar o resultado quando ganhar\n",
    "    \n",
    "print(f'jogador {jogador}  computador {computador}  total {total} ') #pritn fora do laço p mosytar o resultado quando perder \n",
    "print(f'ACABOU  vc venceu {vitoria} vezes seguidas ') #mostra a sequencioa de vitorias"
   ]
  },
  {
   "cell_type": "code",
   "execution_count": 6,
   "id": "f5719532",
   "metadata": {},
   "outputs": [
    {
     "name": "stdout",
     "output_type": "stream",
     "text": [
      "-=-=-=-=-=-=-=-=-=-=-=-=\n",
      "^CADASTRE UMA PESSOA^ \n",
      "-=-=-=-=-=-=-=-=-=-=-=-=\n",
      "Qual a idade da pessoa 78\n",
      "Qual o sexo [M/F] h\n",
      "Qual o sexo [M/F] h\n",
      "Quer continuar ? [S/N] n\n",
      "Toal de pessoas com mais de 18 anos:  1 \n",
      "Ao todo temos 0 homems cadastados \n",
      "E temos 0 mulher menos 20 anos \n"
     ]
    }
   ],
   "source": [
    "idade18=masc=mumu=0 #declarando variaveis que serão incrementadas no emio do progrma \n",
    "while True: #loop infinito \n",
    "    print('-='*12)\n",
    "    print('^CADASTRE UMA PESSOA^ ')\n",
    "    print('-='*12)\n",
    "    idade=int(input('Qual a idade da pessoa ')) #entrda de dados da idade da pessoa \n",
    "    sexo=' '\n",
    "    while sexo not in 'MFmf': #tr certeza que a pessao vai digitar certo e se digitar errado o comando se repete\n",
    "        sexo=str(input('Qual o sexo [M/F] ')).strip().upper()\n",
    "        \n",
    "    if idade>18: #se o input idade fopr maior que 18 netra aqui \n",
    "        idade18+=1 #incremento de variavel \n",
    "    elif sexo=='M':\n",
    "        masc+=1  #incremento de variavel \n",
    "    elif sexo=='F'and idade<20: #se sexo for F e idade mneir que 20 entra \n",
    "        mumu+=1  #incremento de variavel \n",
    "    \n",
    "    continuar=str(input('Quer continuar ? [S/N] ')).strip().upper() #pergunatr se o usaurio deseja contiuar \n",
    "    if continuar=='N': #se digitar N entra no flag de parada \n",
    "        break  #flag de parada e sai do programa \n",
    "print( f'Toal de pessoas com mais de 18 anos:  {idade18} ')\n",
    "print(f'Ao todo temos {masc} homems cadastados ')\n",
    "print(f'E temos {mumu} mulher menos 20 anos ')\n",
    "\n",
    "    "
   ]
  },
  {
   "cell_type": "code",
   "execution_count": 17,
   "id": "12fd0b7b",
   "metadata": {},
   "outputs": [
    {
     "name": "stdout",
     "output_type": "stream",
     "text": [
      "-*-*-*-*-*-*-*-*-*-*-*-*\n",
      "LOJAS TUDÃO\n",
      "-*-*-*-*-*-*-*-*-*-*-*-*\n",
      "Qual o nome od produto leite\n",
      "Qual o preço dele ? 10\n",
      "Quer continuar S/N s\n",
      "Qual o nome od produto tv\n",
      "Qual o preço dele ? 5000\n",
      "Quer continuar S/N s\n",
      "Qual o nome od produto lapis\n",
      "Qual o preço dele ? 3.45\n",
      "Quer continuar S/N s\n",
      "Qual o nome od produto nasa\n",
      "Qual o preço dele ? 0.65\n",
      "Quer continuar S/N n\n",
      "produtos que custam mais de 1000 : 1\n",
      "O total gasto foi 5014.099999999999\n",
      "O produto mais barato foi nasa e ele custa 0.65\n"
     ]
    }
   ],
   "source": [
    "total=totmil=preco=menor=cont=0 #variavsi declaradas \n",
    "barato='' #variavel que recebrta uma atribuição no decorer do progrma \n",
    "print('-*'*12)\n",
    "print('LOJAS TUDÃO')\n",
    "print('-*'*12)\n",
    "\n",
    "while True:#loop infinito \n",
    "    prod=str(input('Qual o nome od produto '))\n",
    "    preco=float(input('Qual o preço dele ? '))\n",
    "    \n",
    "    total+=preco #incremento do total com os preços que vão ser inseridos \n",
    "    cont+=1 #contador de produtos \n",
    "    if preco>1000: #se preço for maior que 1000 entra aqui\n",
    "        totmil+=1 #incremento da var totmil\n",
    "    \n",
    "    if cont==1: #se o contador foi = a 1 o mneor preço é o proprio preço, pois n tem nenhum outro comparar\n",
    "        menor=preco #o menor preço vai receber preço \n",
    "        barato=prod #assim como se so tiver im produto o menor vai ser ele o barato segue a msm logica \n",
    "    else:\n",
    "        if preco<menor: #se o preço for menor que outro produto que ja estava antes na variavel menor, ele vai ser substituido\n",
    "            menor=preco #substituição de preço \n",
    "            barato=prod #temos que mnotar a msm logiac dos outro pois nos outros temos o PREÇO  mais baixo e aqui queremos o NOME\n",
    "    #percevba que nos dois IF oq vem depois da condição é igual, logo podemos 'juntar os dois' com o operador logico OR\n",
    "    #ficaria dessa forma:\n",
    "     # if cont==1 or preco<menor:\n",
    "           #menor=preco\n",
    "           #barato=prod\n",
    "    \n",
    "    conti=str(input('Quer continuar S/N ')).strip().upper()[0] \n",
    "    if conti=='N':\n",
    "        break #flag\n",
    "        \n",
    "print(f'produtos que custam mais de 1000 : {totmil}')\n",
    "print(f'O total gasto foi {total}')\n",
    "print(f'O produto mais barato foi {barato} e ele custa {menor}')"
   ]
  },
  {
   "cell_type": "code",
   "execution_count": null,
   "id": "248e3038",
   "metadata": {},
   "outputs": [],
   "source": []
  },
  {
   "cell_type": "code",
   "execution_count": null,
   "id": "55fde5ca",
   "metadata": {},
   "outputs": [],
   "source": []
  }
 ],
 "metadata": {
  "kernelspec": {
   "display_name": "Python 3 (ipykernel)",
   "language": "python",
   "name": "python3"
  },
  "language_info": {
   "codemirror_mode": {
    "name": "ipython",
    "version": 3
   },
   "file_extension": ".py",
   "mimetype": "text/x-python",
   "name": "python",
   "nbconvert_exporter": "python",
   "pygments_lexer": "ipython3",
   "version": "3.9.13"
  }
 },
 "nbformat": 4,
 "nbformat_minor": 5
}
