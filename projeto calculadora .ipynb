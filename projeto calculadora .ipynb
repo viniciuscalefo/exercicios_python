{
 "cells": [
  {
   "cell_type": "code",
   "execution_count": null,
   "id": "840ec179",
   "metadata": {},
   "outputs": [],
   "source": [
    "import math\n",
    "print('----- CALCULADORA PYHTON -----')\n",
    "n1=float(input('digite o primeiro numero '))\n",
    "n2=float(input('digite o segundo numero '))\n",
    "print(''' [1]- Somar\n",
    "[2]- Subtrair \n",
    "[3]- Multiplicar \n",
    "[4]- Dividir \n",
    "[5]- potencia \n",
    "[6]- Sair do programa''')\n",
    "\n",
    "op=int(input('Qual das operações deseja fazer '))\n",
    "while op!=6:\n",
    "    if op==1:\n",
    "        print(f'A soma entre {n1} e {n2} = {n1+n2} ')\n",
    "        op=int(input('Qual das operações deseja fazer '))\n",
    "    elif op==2:\n",
    "        print(f'A subtração entre {n1} e {n2} = {n1-n2} ')\n",
    "        op=int(input('Qual das operações deseja fazer '))\n",
    "    elif op==3:\n",
    "        print(f'{n1} x {n2} = {n1*n2}')\n",
    "        op=int(input('Qual das operações deseja fazer '))\n",
    "    elif op==4:\n",
    "        print(f'{n1}/{n2} = {n1/n2}')\n",
    "        op=int(input('Qual das operações deseja fazer '))\n",
    "    elif op==5:\n",
    "        print(f'{n1} elevado a {n2} = {n1**n2}')\n",
    "        op=int(input('Qual das operações deseja fazer '))\n",
    "    else:\n",
    "        print('ERRO, opção invalida tente outra ')\n",
    "    \n",
    "        \n",
    "print('ACABOU ')\n"
   ]
  },
  {
   "cell_type": "code",
   "execution_count": null,
   "id": "4b68c3ff",
   "metadata": {},
   "outputs": [],
   "source": []
  },
  {
   "cell_type": "code",
   "execution_count": null,
   "id": "b0571a5c",
   "metadata": {},
   "outputs": [],
   "source": []
  }
 ],
 "metadata": {
  "kernelspec": {
   "display_name": "Python 3 (ipykernel)",
   "language": "python",
   "name": "python3"
  },
  "language_info": {
   "codemirror_mode": {
    "name": "ipython",
    "version": 3
   },
   "file_extension": ".py",
   "mimetype": "text/x-python",
   "name": "python",
   "nbconvert_exporter": "python",
   "pygments_lexer": "ipython3",
   "version": "3.9.13"
  }
 },
 "nbformat": 4,
 "nbformat_minor": 5
}
