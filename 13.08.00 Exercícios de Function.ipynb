{
 "cells": [
  {
   "cell_type": "markdown",
   "metadata": {},
   "source": [
    "# Exercícios\n",
    "\n",
    "### Antes de irmos para o desafio que apresentamos na última aula (que é bem mais complexo do que um exemplo simples) vamos resolver um exercício um pouco mais simples para treinar\n",
    "\n",
    "## 1. Cálculo do Percentual e da Lista de Vendedores\n",
    "\n",
    "- Queremos criar uma function que consiga identificar os vendedores que bateram uma meta, mas além disso, consigo já me dar como resposta o cálculo do % da lista de vendedores que bateu a meta (para eu não precisar calcular manualmente depois)\n",
    "- Essa function deve receber 2 informações como parâmetro: a meta e um dicionário com os vendedores e suas vendas. E me dar 2 respostas: uma lista com o nome dos vendedores que bateram a meta e o % de vendedores que bateu a meta."
   ]
  },
  {
   "cell_type": "code",
   "execution_count": 5,
   "metadata": {},
   "outputs": [
    {
     "name": "stdout",
     "output_type": "stream",
     "text": [
      "15000\n",
      "27000\n",
      "9900\n",
      "3750\n",
      "10300\n",
      "7870\n"
     ]
    }
   ],
   "source": [
    "meta = 10000\n",
    "vendas = {\n",
    "    'João': 15000,\n",
    "    'Julia': 27000,\n",
    "    'Marcus': 9900,\n",
    "    'Maria': 3750,\n",
    "    'Ana': 10300,\n",
    "    'Alon': 7870,\n",
    "}\n",
    "for i,pessoas in enumerate(vendas):\n",
    "    print(vendas[pessoas])"
   ]
  },
  {
   "cell_type": "code",
   "execution_count": 11,
   "metadata": {},
   "outputs": [],
   "source": [
    "  def metas (objetivo, dicionario_vendas):\n",
    "        bateram_meta=[] #lista p/ recebre os noms dos que bateram ameta \n",
    "        for pessoas in (dicionario_vendas): #percorrendo o dict\n",
    "            if dicionario_vendas[pessoas]>objetivo:# peganmdo o valor da venda de cada um e comparando com a meta \n",
    "                bateram_meta.append(pessoas)#caso vdd ele adicnoara o nome do vendedor da minha lista\n",
    "        meta_percent=len(bateram_meta)/len(dicionario_vendas) #porcentagem dos que bateram a meta \n",
    "        return(bateram_meta,meta_percent) #retornado dois valores em forma de tupla\n",
    "            "
   ]
  },
  {
   "cell_type": "code",
   "execution_count": 13,
   "metadata": {},
   "outputs": [
    {
     "name": "stdout",
     "output_type": "stream",
     "text": [
      "(['João', 'Julia', 'Ana'], 0.5)\n",
      "As pessoas que bateram a meta foram ['João', 'Julia', 'Ana'] \n",
      "E eles representam 50.00% do todo\n"
     ]
    }
   ],
   "source": [
    "#aplique sua function nas informações para ver se está funcionando\n",
    "\n",
    "print(metas(meta,vendas)) #printando o resultado, mas como o resultado é uma tupla eu posso fazer o umpackinf dela\n",
    "\n",
    "nomes,porcentagem=metas(meta,vendas) #fazendo o unpacking\n",
    "print(f'As pessoas que bateram a meta foram {nomes} ') \n",
    "print('E eles representam {:.2%} do todo'.format(porcentagem))"
   ]
  },
  {
   "cell_type": "code",
   "execution_count": null,
   "metadata": {},
   "outputs": [],
   "source": []
  }
 ],
 "metadata": {
  "kernelspec": {
   "display_name": "Python 3 (ipykernel)",
   "language": "python",
   "name": "python3"
  },
  "language_info": {
   "codemirror_mode": {
    "name": "ipython",
    "version": 3
   },
   "file_extension": ".py",
   "mimetype": "text/x-python",
   "name": "python",
   "nbconvert_exporter": "python",
   "pygments_lexer": "ipython3",
   "version": "3.9.13"
  }
 },
 "nbformat": 4,
 "nbformat_minor": 4
}
